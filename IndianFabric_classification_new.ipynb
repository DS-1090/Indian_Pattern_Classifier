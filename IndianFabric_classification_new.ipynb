{
  "nbformat": 4,
  "nbformat_minor": 0,
  "metadata": {
    "colab": {
      "provenance": [],
      "gpuType": "T4",
      "authorship_tag": "ABX9TyOyKWsn6UK8uAmqHnv5aLPU",
      "include_colab_link": true
    },
    "kernelspec": {
      "name": "python3",
      "display_name": "Python 3"
    },
    "language_info": {
      "name": "python"
    },
    "accelerator": "GPU"
  },
  "cells": [
    {
      "cell_type": "markdown",
      "metadata": {
        "id": "view-in-github",
        "colab_type": "text"
      },
      "source": [
        "<a href=\"https://colab.research.google.com/github/DS-1090/Indian_Pattern_Classifier/blob/main/IndianFabric_classification_new.ipynb\" target=\"_parent\"><img src=\"https://colab.research.google.com/assets/colab-badge.svg\" alt=\"Open In Colab\"/></a>"
      ]
    },
    {
      "cell_type": "markdown",
      "source": [
        "Downloading Dataset"
      ],
      "metadata": {
        "id": "j4XtgGILIXSl"
      }
    },
    {
      "cell_type": "code",
      "execution_count": 1,
      "metadata": {
        "colab": {
          "base_uri": "https://localhost:8080/"
        },
        "id": "Ji2RxHO9Ya_6",
        "outputId": "e1cfe2c3-d661-47af-8f54-146be94f1a75"
      },
      "outputs": [
        {
          "output_type": "stream",
          "name": "stdout",
          "text": [
            "Collecting opendatasets\n",
            "  Downloading opendatasets-0.1.22-py3-none-any.whl.metadata (9.2 kB)\n",
            "Requirement already satisfied: tqdm in /usr/local/lib/python3.10/dist-packages (from opendatasets) (4.67.1)\n",
            "Requirement already satisfied: kaggle in /usr/local/lib/python3.10/dist-packages (from opendatasets) (1.6.17)\n",
            "Requirement already satisfied: click in /usr/local/lib/python3.10/dist-packages (from opendatasets) (8.1.7)\n",
            "Requirement already satisfied: six>=1.10 in /usr/local/lib/python3.10/dist-packages (from kaggle->opendatasets) (1.17.0)\n",
            "Requirement already satisfied: certifi>=2023.7.22 in /usr/local/lib/python3.10/dist-packages (from kaggle->opendatasets) (2024.12.14)\n",
            "Requirement already satisfied: python-dateutil in /usr/local/lib/python3.10/dist-packages (from kaggle->opendatasets) (2.8.2)\n",
            "Requirement already satisfied: requests in /usr/local/lib/python3.10/dist-packages (from kaggle->opendatasets) (2.32.3)\n",
            "Requirement already satisfied: python-slugify in /usr/local/lib/python3.10/dist-packages (from kaggle->opendatasets) (8.0.4)\n",
            "Requirement already satisfied: urllib3 in /usr/local/lib/python3.10/dist-packages (from kaggle->opendatasets) (2.2.3)\n",
            "Requirement already satisfied: bleach in /usr/local/lib/python3.10/dist-packages (from kaggle->opendatasets) (6.2.0)\n",
            "Requirement already satisfied: webencodings in /usr/local/lib/python3.10/dist-packages (from bleach->kaggle->opendatasets) (0.5.1)\n",
            "Requirement already satisfied: text-unidecode>=1.3 in /usr/local/lib/python3.10/dist-packages (from python-slugify->kaggle->opendatasets) (1.3)\n",
            "Requirement already satisfied: charset-normalizer<4,>=2 in /usr/local/lib/python3.10/dist-packages (from requests->kaggle->opendatasets) (3.4.0)\n",
            "Requirement already satisfied: idna<4,>=2.5 in /usr/local/lib/python3.10/dist-packages (from requests->kaggle->opendatasets) (3.10)\n",
            "Downloading opendatasets-0.1.22-py3-none-any.whl (15 kB)\n",
            "Installing collected packages: opendatasets\n",
            "Successfully installed opendatasets-0.1.22\n"
          ]
        }
      ],
      "source": [
        "pip install opendatasets\n"
      ]
    },
    {
      "cell_type": "code",
      "source": [
        "import opendatasets as od\n",
        "od.download(\"https://www.kaggle.com/datasets/div456/indian-fabrics-3-classes\")\n"
      ],
      "metadata": {
        "colab": {
          "base_uri": "https://localhost:8080/"
        },
        "id": "NRTZoLXGZAZI",
        "outputId": "38d00a77-2dc6-47a7-ed4b-39bc83ead645"
      },
      "execution_count": 2,
      "outputs": [
        {
          "output_type": "stream",
          "name": "stdout",
          "text": [
            "Please provide your Kaggle credentials to download this dataset. Learn more: http://bit.ly/kaggle-creds\n",
            "Your Kaggle username: div456\n",
            "Your Kaggle Key: ··········\n",
            "Dataset URL: https://www.kaggle.com/datasets/div456/indian-fabrics-3-classes\n",
            "Downloading indian-fabrics-3-classes.zip to ./indian-fabrics-3-classes\n"
          ]
        },
        {
          "output_type": "stream",
          "name": "stderr",
          "text": [
            "100%|██████████| 88.4M/88.4M [00:05<00:00, 18.1MB/s]\n"
          ]
        },
        {
          "output_type": "stream",
          "name": "stdout",
          "text": [
            "\n"
          ]
        }
      ]
    },
    {
      "cell_type": "markdown",
      "source": [
        "Importing Libraries\n"
      ],
      "metadata": {
        "id": "MlfVKex6IbyX"
      }
    },
    {
      "cell_type": "code",
      "source": [
        "from tensorflow import keras\n",
        "import tensorflow as tf\n",
        "from tensorflow.keras import layers\n",
        "from tensorflow.keras.models import Sequential\n",
        "from tensorflow.keras.layers import Conv2D, MaxPooling2D, Flatten, Dense, Dropout\n",
        "# from tensorflow.keras.preprocessing.image import ImageDataGenerator\n",
        "from tensorflow.keras.layers import BatchNormalization"
      ],
      "metadata": {
        "id": "4jRoZbwfZLuO"
      },
      "execution_count": 3,
      "outputs": []
    },
    {
      "cell_type": "markdown",
      "source": [
        "Creating Train, Valid, Test Datasets\n"
      ],
      "metadata": {
        "id": "laWBr_tfIhmT"
      }
    },
    {
      "cell_type": "code",
      "source": [
        "import pathlib\n",
        "\n",
        "data_dir = pathlib.Path('/content/indian-fabrics-3-classes/train')"
      ],
      "metadata": {
        "id": "QLEpwYCse4Kx"
      },
      "execution_count": 4,
      "outputs": []
    },
    {
      "cell_type": "code",
      "source": [
        "train_ds = tf.keras.utils.image_dataset_from_directory(\n",
        "  data_dir,\n",
        "  seed=123,\n",
        "  image_size=(320, 320),\n",
        "  batch_size=64,\n",
        "  color_mode='rgb',\n",
        "  labels='inferred',\n",
        "  label_mode='int'\n",
        "  )\n"
      ],
      "metadata": {
        "colab": {
          "base_uri": "https://localhost:8080/"
        },
        "id": "H05XlfL0eqgl",
        "outputId": "ba671676-06ce-4915-b051-c4a4569b9456"
      },
      "execution_count": 5,
      "outputs": [
        {
          "output_type": "stream",
          "name": "stdout",
          "text": [
            "Found 1068 files belonging to 3 classes.\n"
          ]
        }
      ]
    },
    {
      "cell_type": "code",
      "source": [
        "data_dir = pathlib.Path('/content/indian-fabrics-3-classes/valid')\n",
        "valid_ds = tf.keras.utils.image_dataset_from_directory(\n",
        "  data_dir,\n",
        "  seed=123,\n",
        "  image_size=(320, 320),\n",
        "  batch_size=64,\n",
        "  color_mode='rgb',\n",
        "  labels='inferred',\n",
        "  label_mode='int'\n",
        "  )\n"
      ],
      "metadata": {
        "colab": {
          "base_uri": "https://localhost:8080/"
        },
        "id": "qaWXhlPif6p9",
        "outputId": "aaf339e9-ed9e-49f0-b101-3f4c945f285f"
      },
      "execution_count": 6,
      "outputs": [
        {
          "output_type": "stream",
          "name": "stdout",
          "text": [
            "Found 71 files belonging to 3 classes.\n"
          ]
        }
      ]
    },
    {
      "cell_type": "code",
      "source": [
        "data_dir = pathlib.Path('/content/indian-fabrics-3-classes/test')\n",
        "test_ds = tf.keras.utils.image_dataset_from_directory(\n",
        "  data_dir,\n",
        "  seed=123,\n",
        "  image_size=(320, 320),\n",
        "  batch_size=64,\n",
        "  color_mode='rgb',\n",
        "  labels='inferred',\n",
        "  label_mode='int'\n",
        "  )\n"
      ],
      "metadata": {
        "colab": {
          "base_uri": "https://localhost:8080/"
        },
        "id": "Ha0FMA_pgE4e",
        "outputId": "e18480cd-520f-4936-fc75-e7f7b564860a"
      },
      "execution_count": 7,
      "outputs": [
        {
          "output_type": "stream",
          "name": "stdout",
          "text": [
            "Found 49 files belonging to 3 classes.\n"
          ]
        }
      ]
    },
    {
      "cell_type": "code",
      "source": [
        "batch_size = 64\n",
        "img_height = 320\n",
        "img_width = 320"
      ],
      "metadata": {
        "id": "zY_EebMJb1Hx"
      },
      "execution_count": 8,
      "outputs": []
    },
    {
      "cell_type": "markdown",
      "source": [
        "Create & Train the model"
      ],
      "metadata": {
        "id": "RMKbw-qpIsQO"
      }
    },
    {
      "cell_type": "code",
      "source": [],
      "metadata": {
        "id": "PzK5NtynCQoK"
      },
      "execution_count": null,
      "outputs": []
    },
    {
      "cell_type": "code",
      "source": [
        "model = Sequential()"
      ],
      "metadata": {
        "id": "htSliKfubRjy"
      },
      "execution_count": 9,
      "outputs": []
    },
    {
      "cell_type": "code",
      "source": [
        "model.add(layers.Rescaling(1./255, input_shape=(img_height, img_width, 3)))"
      ],
      "metadata": {
        "id": "vfYUZ5Iwbrv8",
        "colab": {
          "base_uri": "https://localhost:8080/"
        },
        "outputId": "d638fef2-a3d1-4955-88ed-fb8e7a6ff279"
      },
      "execution_count": 10,
      "outputs": [
        {
          "output_type": "stream",
          "name": "stderr",
          "text": [
            "/usr/local/lib/python3.10/dist-packages/keras/src/layers/preprocessing/tf_data_layer.py:19: UserWarning: Do not pass an `input_shape`/`input_dim` argument to a layer. When using Sequential models, prefer using an `Input(shape)` object as the first layer in the model instead.\n",
            "  super().__init__(**kwargs)\n"
          ]
        }
      ]
    },
    {
      "cell_type": "code",
      "source": [
        "# model.add(layers.RandomFlip(\"horizontal\",input_shape=(img_height,img_width,3)))\n",
        "# model.add(layers.RandomRotation(0.1, fill_mode='nearest'))\n",
        "# model.add(layers.RandomZoom(0.1))\n",
        "# model.add(layers.RandomContrast(0.1))\n",
        "# model.add(layers.RandomBrightness(0.04))"
      ],
      "metadata": {
        "id": "Po7pvWiBoRlk"
      },
      "execution_count": 12,
      "outputs": []
    },
    {
      "cell_type": "code",
      "source": [
        "\n",
        "# model.add(Conv2D(64, 3, padding='same', activation='relu'))\n",
        "# model.add(BatchNormalization())\n",
        "\n",
        "model.add(Conv2D(32, 3, padding='same', activation='relu'))\n",
        "\n",
        "model.add(Conv2D(16, 3, padding='same', activation='relu'))\n",
        "model.add(MaxPooling2D())\n",
        "\n",
        "# model.add(Conv2D(128, 3, padding='same', activation='relu'))\n",
        "# model.add(BatchNormalization())\n",
        "# model.add(MaxPooling2D())\n",
        "\n",
        "model.add(Flatten())\n",
        "# model.add(Dense(256, activation='relu'))\n",
        "# model.add(Dropout(0.3))\n",
        "model.add(Dense(64, activation='relu'))\n",
        "model.add(Dropout(0.1))\n",
        "model.add(Dense(32, activation='relu'))\n",
        "model.add(Dense(3, activation='softmax'))\n",
        "\n",
        "\n",
        "# model.add(Conv2D(32, 3, padding='same', activation='relu'))\n",
        "\n",
        "# model.add(Conv2D(64, 3, padding='same', activation='relu'))\n",
        "# model.add(MaxPooling2D())\n",
        "\n",
        "# model.add(Conv2D(128, 3, padding='same', activation='relu'))\n",
        "# model.add(MaxPooling2D())\n",
        "\n",
        "# model.add(Flatten())\n",
        "\n",
        "# model.add(Dense(64, activation='relu'))\n",
        "# model.add(Dropout(0.2))\n",
        "# model.add(Dense(3, activation='softmax'))\n"
      ],
      "metadata": {
        "id": "GXgm74YmcV3V"
      },
      "execution_count": 11,
      "outputs": []
    },
    {
      "cell_type": "code",
      "source": [
        "model.compile(optimizer='adam',\n",
        "              loss=tf.keras.losses.SparseCategoricalCrossentropy(),\n",
        "              metrics=['accuracy'],\n",
        "              run_eagerly=True\n",
        "               )\n"
      ],
      "metadata": {
        "id": "6JcTtQEVdzS_"
      },
      "execution_count": 12,
      "outputs": []
    },
    {
      "cell_type": "code",
      "source": [
        "model.summary()\n"
      ],
      "metadata": {
        "colab": {
          "base_uri": "https://localhost:8080/",
          "height": 422
        },
        "id": "ZvSESoY1eZQD",
        "outputId": "c5d48788-f5c5-4e29-eb99-a385622d7a7d"
      },
      "execution_count": 13,
      "outputs": [
        {
          "output_type": "display_data",
          "data": {
            "text/plain": [
              "\u001b[1mModel: \"sequential\"\u001b[0m\n"
            ],
            "text/html": [
              "<pre style=\"white-space:pre;overflow-x:auto;line-height:normal;font-family:Menlo,'DejaVu Sans Mono',consolas,'Courier New',monospace\"><span style=\"font-weight: bold\">Model: \"sequential\"</span>\n",
              "</pre>\n"
            ]
          },
          "metadata": {}
        },
        {
          "output_type": "display_data",
          "data": {
            "text/plain": [
              "┏━━━━━━━━━━━━━━━━━━━━━━━━━━━━━━━━━━━━━━┳━━━━━━━━━━━━━━━━━━━━━━━━━━━━━┳━━━━━━━━━━━━━━━━━┓\n",
              "┃\u001b[1m \u001b[0m\u001b[1mLayer (type)                        \u001b[0m\u001b[1m \u001b[0m┃\u001b[1m \u001b[0m\u001b[1mOutput Shape               \u001b[0m\u001b[1m \u001b[0m┃\u001b[1m \u001b[0m\u001b[1m        Param #\u001b[0m\u001b[1m \u001b[0m┃\n",
              "┡━━━━━━━━━━━━━━━━━━━━━━━━━━━━━━━━━━━━━━╇━━━━━━━━━━━━━━━━━━━━━━━━━━━━━╇━━━━━━━━━━━━━━━━━┩\n",
              "│ rescaling (\u001b[38;5;33mRescaling\u001b[0m)                │ (\u001b[38;5;45mNone\u001b[0m, \u001b[38;5;34m320\u001b[0m, \u001b[38;5;34m320\u001b[0m, \u001b[38;5;34m3\u001b[0m)         │               \u001b[38;5;34m0\u001b[0m │\n",
              "├──────────────────────────────────────┼─────────────────────────────┼─────────────────┤\n",
              "│ conv2d (\u001b[38;5;33mConv2D\u001b[0m)                      │ (\u001b[38;5;45mNone\u001b[0m, \u001b[38;5;34m320\u001b[0m, \u001b[38;5;34m320\u001b[0m, \u001b[38;5;34m32\u001b[0m)        │             \u001b[38;5;34m896\u001b[0m │\n",
              "├──────────────────────────────────────┼─────────────────────────────┼─────────────────┤\n",
              "│ conv2d_1 (\u001b[38;5;33mConv2D\u001b[0m)                    │ (\u001b[38;5;45mNone\u001b[0m, \u001b[38;5;34m320\u001b[0m, \u001b[38;5;34m320\u001b[0m, \u001b[38;5;34m16\u001b[0m)        │           \u001b[38;5;34m4,624\u001b[0m │\n",
              "├──────────────────────────────────────┼─────────────────────────────┼─────────────────┤\n",
              "│ max_pooling2d (\u001b[38;5;33mMaxPooling2D\u001b[0m)         │ (\u001b[38;5;45mNone\u001b[0m, \u001b[38;5;34m160\u001b[0m, \u001b[38;5;34m160\u001b[0m, \u001b[38;5;34m16\u001b[0m)        │               \u001b[38;5;34m0\u001b[0m │\n",
              "├──────────────────────────────────────┼─────────────────────────────┼─────────────────┤\n",
              "│ flatten (\u001b[38;5;33mFlatten\u001b[0m)                    │ (\u001b[38;5;45mNone\u001b[0m, \u001b[38;5;34m409600\u001b[0m)              │               \u001b[38;5;34m0\u001b[0m │\n",
              "├──────────────────────────────────────┼─────────────────────────────┼─────────────────┤\n",
              "│ dense (\u001b[38;5;33mDense\u001b[0m)                        │ (\u001b[38;5;45mNone\u001b[0m, \u001b[38;5;34m64\u001b[0m)                  │      \u001b[38;5;34m26,214,464\u001b[0m │\n",
              "├──────────────────────────────────────┼─────────────────────────────┼─────────────────┤\n",
              "│ dropout (\u001b[38;5;33mDropout\u001b[0m)                    │ (\u001b[38;5;45mNone\u001b[0m, \u001b[38;5;34m64\u001b[0m)                  │               \u001b[38;5;34m0\u001b[0m │\n",
              "├──────────────────────────────────────┼─────────────────────────────┼─────────────────┤\n",
              "│ dense_1 (\u001b[38;5;33mDense\u001b[0m)                      │ (\u001b[38;5;45mNone\u001b[0m, \u001b[38;5;34m32\u001b[0m)                  │           \u001b[38;5;34m2,080\u001b[0m │\n",
              "├──────────────────────────────────────┼─────────────────────────────┼─────────────────┤\n",
              "│ dense_2 (\u001b[38;5;33mDense\u001b[0m)                      │ (\u001b[38;5;45mNone\u001b[0m, \u001b[38;5;34m3\u001b[0m)                   │              \u001b[38;5;34m99\u001b[0m │\n",
              "└──────────────────────────────────────┴─────────────────────────────┴─────────────────┘\n"
            ],
            "text/html": [
              "<pre style=\"white-space:pre;overflow-x:auto;line-height:normal;font-family:Menlo,'DejaVu Sans Mono',consolas,'Courier New',monospace\">┏━━━━━━━━━━━━━━━━━━━━━━━━━━━━━━━━━━━━━━┳━━━━━━━━━━━━━━━━━━━━━━━━━━━━━┳━━━━━━━━━━━━━━━━━┓\n",
              "┃<span style=\"font-weight: bold\"> Layer (type)                         </span>┃<span style=\"font-weight: bold\"> Output Shape                </span>┃<span style=\"font-weight: bold\">         Param # </span>┃\n",
              "┡━━━━━━━━━━━━━━━━━━━━━━━━━━━━━━━━━━━━━━╇━━━━━━━━━━━━━━━━━━━━━━━━━━━━━╇━━━━━━━━━━━━━━━━━┩\n",
              "│ rescaling (<span style=\"color: #0087ff; text-decoration-color: #0087ff\">Rescaling</span>)                │ (<span style=\"color: #00d7ff; text-decoration-color: #00d7ff\">None</span>, <span style=\"color: #00af00; text-decoration-color: #00af00\">320</span>, <span style=\"color: #00af00; text-decoration-color: #00af00\">320</span>, <span style=\"color: #00af00; text-decoration-color: #00af00\">3</span>)         │               <span style=\"color: #00af00; text-decoration-color: #00af00\">0</span> │\n",
              "├──────────────────────────────────────┼─────────────────────────────┼─────────────────┤\n",
              "│ conv2d (<span style=\"color: #0087ff; text-decoration-color: #0087ff\">Conv2D</span>)                      │ (<span style=\"color: #00d7ff; text-decoration-color: #00d7ff\">None</span>, <span style=\"color: #00af00; text-decoration-color: #00af00\">320</span>, <span style=\"color: #00af00; text-decoration-color: #00af00\">320</span>, <span style=\"color: #00af00; text-decoration-color: #00af00\">32</span>)        │             <span style=\"color: #00af00; text-decoration-color: #00af00\">896</span> │\n",
              "├──────────────────────────────────────┼─────────────────────────────┼─────────────────┤\n",
              "│ conv2d_1 (<span style=\"color: #0087ff; text-decoration-color: #0087ff\">Conv2D</span>)                    │ (<span style=\"color: #00d7ff; text-decoration-color: #00d7ff\">None</span>, <span style=\"color: #00af00; text-decoration-color: #00af00\">320</span>, <span style=\"color: #00af00; text-decoration-color: #00af00\">320</span>, <span style=\"color: #00af00; text-decoration-color: #00af00\">16</span>)        │           <span style=\"color: #00af00; text-decoration-color: #00af00\">4,624</span> │\n",
              "├──────────────────────────────────────┼─────────────────────────────┼─────────────────┤\n",
              "│ max_pooling2d (<span style=\"color: #0087ff; text-decoration-color: #0087ff\">MaxPooling2D</span>)         │ (<span style=\"color: #00d7ff; text-decoration-color: #00d7ff\">None</span>, <span style=\"color: #00af00; text-decoration-color: #00af00\">160</span>, <span style=\"color: #00af00; text-decoration-color: #00af00\">160</span>, <span style=\"color: #00af00; text-decoration-color: #00af00\">16</span>)        │               <span style=\"color: #00af00; text-decoration-color: #00af00\">0</span> │\n",
              "├──────────────────────────────────────┼─────────────────────────────┼─────────────────┤\n",
              "│ flatten (<span style=\"color: #0087ff; text-decoration-color: #0087ff\">Flatten</span>)                    │ (<span style=\"color: #00d7ff; text-decoration-color: #00d7ff\">None</span>, <span style=\"color: #00af00; text-decoration-color: #00af00\">409600</span>)              │               <span style=\"color: #00af00; text-decoration-color: #00af00\">0</span> │\n",
              "├──────────────────────────────────────┼─────────────────────────────┼─────────────────┤\n",
              "│ dense (<span style=\"color: #0087ff; text-decoration-color: #0087ff\">Dense</span>)                        │ (<span style=\"color: #00d7ff; text-decoration-color: #00d7ff\">None</span>, <span style=\"color: #00af00; text-decoration-color: #00af00\">64</span>)                  │      <span style=\"color: #00af00; text-decoration-color: #00af00\">26,214,464</span> │\n",
              "├──────────────────────────────────────┼─────────────────────────────┼─────────────────┤\n",
              "│ dropout (<span style=\"color: #0087ff; text-decoration-color: #0087ff\">Dropout</span>)                    │ (<span style=\"color: #00d7ff; text-decoration-color: #00d7ff\">None</span>, <span style=\"color: #00af00; text-decoration-color: #00af00\">64</span>)                  │               <span style=\"color: #00af00; text-decoration-color: #00af00\">0</span> │\n",
              "├──────────────────────────────────────┼─────────────────────────────┼─────────────────┤\n",
              "│ dense_1 (<span style=\"color: #0087ff; text-decoration-color: #0087ff\">Dense</span>)                      │ (<span style=\"color: #00d7ff; text-decoration-color: #00d7ff\">None</span>, <span style=\"color: #00af00; text-decoration-color: #00af00\">32</span>)                  │           <span style=\"color: #00af00; text-decoration-color: #00af00\">2,080</span> │\n",
              "├──────────────────────────────────────┼─────────────────────────────┼─────────────────┤\n",
              "│ dense_2 (<span style=\"color: #0087ff; text-decoration-color: #0087ff\">Dense</span>)                      │ (<span style=\"color: #00d7ff; text-decoration-color: #00d7ff\">None</span>, <span style=\"color: #00af00; text-decoration-color: #00af00\">3</span>)                   │              <span style=\"color: #00af00; text-decoration-color: #00af00\">99</span> │\n",
              "└──────────────────────────────────────┴─────────────────────────────┴─────────────────┘\n",
              "</pre>\n"
            ]
          },
          "metadata": {}
        },
        {
          "output_type": "display_data",
          "data": {
            "text/plain": [
              "\u001b[1m Total params: \u001b[0m\u001b[38;5;34m26,222,163\u001b[0m (100.03 MB)\n"
            ],
            "text/html": [
              "<pre style=\"white-space:pre;overflow-x:auto;line-height:normal;font-family:Menlo,'DejaVu Sans Mono',consolas,'Courier New',monospace\"><span style=\"font-weight: bold\"> Total params: </span><span style=\"color: #00af00; text-decoration-color: #00af00\">26,222,163</span> (100.03 MB)\n",
              "</pre>\n"
            ]
          },
          "metadata": {}
        },
        {
          "output_type": "display_data",
          "data": {
            "text/plain": [
              "\u001b[1m Trainable params: \u001b[0m\u001b[38;5;34m26,222,163\u001b[0m (100.03 MB)\n"
            ],
            "text/html": [
              "<pre style=\"white-space:pre;overflow-x:auto;line-height:normal;font-family:Menlo,'DejaVu Sans Mono',consolas,'Courier New',monospace\"><span style=\"font-weight: bold\"> Trainable params: </span><span style=\"color: #00af00; text-decoration-color: #00af00\">26,222,163</span> (100.03 MB)\n",
              "</pre>\n"
            ]
          },
          "metadata": {}
        },
        {
          "output_type": "display_data",
          "data": {
            "text/plain": [
              "\u001b[1m Non-trainable params: \u001b[0m\u001b[38;5;34m0\u001b[0m (0.00 B)\n"
            ],
            "text/html": [
              "<pre style=\"white-space:pre;overflow-x:auto;line-height:normal;font-family:Menlo,'DejaVu Sans Mono',consolas,'Courier New',monospace\"><span style=\"font-weight: bold\"> Non-trainable params: </span><span style=\"color: #00af00; text-decoration-color: #00af00\">0</span> (0.00 B)\n",
              "</pre>\n"
            ]
          },
          "metadata": {}
        }
      ]
    },
    {
      "cell_type": "code",
      "source": [
        "type(model)"
      ],
      "metadata": {
        "colab": {
          "base_uri": "https://localhost:8080/",
          "height": 186
        },
        "id": "Te3Vr_3RjZeG",
        "outputId": "be54bea4-e696-4093-c80a-f216652749cd"
      },
      "execution_count": 15,
      "outputs": [
        {
          "output_type": "execute_result",
          "data": {
            "text/plain": [
              "keras.src.models.sequential.Sequential"
            ],
            "text/html": [
              "<div style=\"max-width:800px; border: 1px solid var(--colab-border-color);\"><style>\n",
              "      pre.function-repr-contents {\n",
              "        overflow-x: auto;\n",
              "        padding: 8px 12px;\n",
              "        max-height: 500px;\n",
              "      }\n",
              "\n",
              "      pre.function-repr-contents.function-repr-contents-collapsed {\n",
              "        cursor: pointer;\n",
              "        max-height: 100px;\n",
              "      }\n",
              "    </style>\n",
              "    <pre style=\"white-space: initial; background:\n",
              "         var(--colab-secondary-surface-color); padding: 8px 12px;\n",
              "         border-bottom: 1px solid var(--colab-border-color);\"><b>keras.src.models.sequential.Sequential</b><br/>def error_handler(*args, **kwargs)</pre><pre class=\"function-repr-contents function-repr-contents-collapsed\" style=\"\"><a class=\"filepath\" style=\"display:none\" href=\"#\">/usr/local/lib/python3.10/dist-packages/keras/src/models/sequential.py</a>`Sequential` groups a linear stack of layers into a `Model`.\n",
              "\n",
              "Examples:\n",
              "\n",
              "```python\n",
              "model = keras.Sequential()\n",
              "model.add(keras.Input(shape=(16,)))\n",
              "model.add(keras.layers.Dense(8))\n",
              "\n",
              "# Note that you can also omit the initial `Input`.\n",
              "# In that case the model doesn&#x27;t have any weights until the first call\n",
              "# to a training/evaluation method (since it isn&#x27;t yet built):\n",
              "model = keras.Sequential()\n",
              "model.add(keras.layers.Dense(8))\n",
              "model.add(keras.layers.Dense(4))\n",
              "# model.weights not created yet\n",
              "\n",
              "# Whereas if you specify an `Input`, the model gets built\n",
              "# continuously as you are adding layers:\n",
              "model = keras.Sequential()\n",
              "model.add(keras.Input(shape=(16,)))\n",
              "model.add(keras.layers.Dense(8))\n",
              "len(model.weights)  # Returns &quot;2&quot;\n",
              "\n",
              "# When using the delayed-build pattern (no input shape specified), you can\n",
              "# choose to manually build your model by calling\n",
              "# `build(batch_input_shape)`:\n",
              "model = keras.Sequential()\n",
              "model.add(keras.layers.Dense(8))\n",
              "model.add(keras.layers.Dense(4))\n",
              "model.build((None, 16))\n",
              "len(model.weights)  # Returns &quot;4&quot;\n",
              "\n",
              "# Note that when using the delayed-build pattern (no input shape specified),\n",
              "# the model gets built the first time you call `fit`, `eval`, or `predict`,\n",
              "# or the first time you call the model on some input data.\n",
              "model = keras.Sequential()\n",
              "model.add(keras.layers.Dense(8))\n",
              "model.add(keras.layers.Dense(1))\n",
              "model.compile(optimizer=&#x27;sgd&#x27;, loss=&#x27;mse&#x27;)\n",
              "# This builds the model for the first time:\n",
              "model.fit(x, y, batch_size=32, epochs=10)\n",
              "```</pre>\n",
              "      <script>\n",
              "      if (google.colab.kernel.accessAllowed && google.colab.files && google.colab.files.view) {\n",
              "        for (const element of document.querySelectorAll('.filepath')) {\n",
              "          element.style.display = 'block'\n",
              "          element.onclick = (event) => {\n",
              "            event.preventDefault();\n",
              "            event.stopPropagation();\n",
              "            google.colab.files.view(element.textContent, 18);\n",
              "          };\n",
              "        }\n",
              "      }\n",
              "      for (const element of document.querySelectorAll('.function-repr-contents')) {\n",
              "        element.onclick = (event) => {\n",
              "          event.preventDefault();\n",
              "          event.stopPropagation();\n",
              "          element.classList.toggle('function-repr-contents-collapsed');\n",
              "        };\n",
              "      }\n",
              "      </script>\n",
              "      </div>"
            ]
          },
          "metadata": {},
          "execution_count": 15
        }
      ]
    },
    {
      "cell_type": "code",
      "source": [
        "h = model.fit(\n",
        "  train_ds,\n",
        "  validation_data=valid_ds,\n",
        "  epochs=10,\n",
        "  batch_size= 16\n",
        ")\n"
      ],
      "metadata": {
        "colab": {
          "base_uri": "https://localhost:8080/"
        },
        "id": "5c1R-7POebuV",
        "outputId": "3d8e9fab-f508-4f5f-df22-3a2210cc465a"
      },
      "execution_count": 16,
      "outputs": [
        {
          "output_type": "stream",
          "name": "stdout",
          "text": [
            "Epoch 1/10\n",
            "\u001b[1m17/17\u001b[0m \u001b[32m━━━━━━━━━━━━━━━━━━━━\u001b[0m\u001b[37m\u001b[0m \u001b[1m17s\u001b[0m 508ms/step - accuracy: 0.3425 - loss: 6.1181 - val_accuracy: 0.5070 - val_loss: 1.0379\n",
            "Epoch 2/10\n",
            "\u001b[1m17/17\u001b[0m \u001b[32m━━━━━━━━━━━━━━━━━━━━\u001b[0m\u001b[37m\u001b[0m \u001b[1m6s\u001b[0m 323ms/step - accuracy: 0.5969 - loss: 0.8992 - val_accuracy: 0.7324 - val_loss: 0.8051\n",
            "Epoch 3/10\n",
            "\u001b[1m17/17\u001b[0m \u001b[32m━━━━━━━━━━━━━━━━━━━━\u001b[0m\u001b[37m\u001b[0m \u001b[1m6s\u001b[0m 354ms/step - accuracy: 0.8703 - loss: 0.4542 - val_accuracy: 0.7183 - val_loss: 0.7537\n",
            "Epoch 4/10\n",
            "\u001b[1m17/17\u001b[0m \u001b[32m━━━━━━━━━━━━━━━━━━━━\u001b[0m\u001b[37m\u001b[0m \u001b[1m6s\u001b[0m 329ms/step - accuracy: 0.9583 - loss: 0.1700 - val_accuracy: 0.6901 - val_loss: 0.7689\n",
            "Epoch 5/10\n",
            "\u001b[1m17/17\u001b[0m \u001b[32m━━━━━━━━━━━━━━━━━━━━\u001b[0m\u001b[37m\u001b[0m \u001b[1m11s\u001b[0m 339ms/step - accuracy: 0.9881 - loss: 0.0821 - val_accuracy: 0.7465 - val_loss: 0.8012\n",
            "Epoch 6/10\n",
            "\u001b[1m17/17\u001b[0m \u001b[32m━━━━━━━━━━━━━━━━━━━━\u001b[0m\u001b[37m\u001b[0m \u001b[1m6s\u001b[0m 331ms/step - accuracy: 0.9944 - loss: 0.0274 - val_accuracy: 0.7465 - val_loss: 0.7405\n",
            "Epoch 7/10\n",
            "\u001b[1m17/17\u001b[0m \u001b[32m━━━━━━━━━━━━━━━━━━━━\u001b[0m\u001b[37m\u001b[0m \u001b[1m10s\u001b[0m 337ms/step - accuracy: 1.0000 - loss: 0.0125 - val_accuracy: 0.7746 - val_loss: 1.0873\n",
            "Epoch 8/10\n",
            "\u001b[1m17/17\u001b[0m \u001b[32m━━━━━━━━━━━━━━━━━━━━\u001b[0m\u001b[37m\u001b[0m \u001b[1m10s\u001b[0m 336ms/step - accuracy: 0.9965 - loss: 0.0083 - val_accuracy: 0.8028 - val_loss: 1.0090\n",
            "Epoch 9/10\n",
            "\u001b[1m17/17\u001b[0m \u001b[32m━━━━━━━━━━━━━━━━━━━━\u001b[0m\u001b[37m\u001b[0m \u001b[1m10s\u001b[0m 339ms/step - accuracy: 1.0000 - loss: 0.0036 - val_accuracy: 0.7887 - val_loss: 1.1258\n",
            "Epoch 10/10\n",
            "\u001b[1m17/17\u001b[0m \u001b[32m━━━━━━━━━━━━━━━━━━━━\u001b[0m\u001b[37m\u001b[0m \u001b[1m6s\u001b[0m 343ms/step - accuracy: 1.0000 - loss: 0.0019 - val_accuracy: 0.7887 - val_loss: 1.2217\n"
          ]
        }
      ]
    },
    {
      "cell_type": "code",
      "source": [
        "h.history"
      ],
      "metadata": {
        "id": "uqDonPDVgrVJ",
        "colab": {
          "base_uri": "https://localhost:8080/"
        },
        "outputId": "ba99d7af-d6b8-4eb5-c33d-a85f1fa2ca92"
      },
      "execution_count": 17,
      "outputs": [
        {
          "output_type": "execute_result",
          "data": {
            "text/plain": [
              "{'accuracy': [0.4016853868961334,\n",
              "  0.6647940278053284,\n",
              "  0.882022500038147,\n",
              "  0.9625468254089355,\n",
              "  0.9887640476226807,\n",
              "  0.9962546825408936,\n",
              "  1.0,\n",
              "  0.9981273412704468,\n",
              "  1.0,\n",
              "  1.0],\n",
              " 'loss': [4.114221572875977,\n",
              "  0.8160333633422852,\n",
              "  0.39542537927627563,\n",
              "  0.14928284287452698,\n",
              "  0.06416001170873642,\n",
              "  0.025555623695254326,\n",
              "  0.009948845952749252,\n",
              "  0.006732339039444923,\n",
              "  0.0031930352561175823,\n",
              "  0.0024369319435209036],\n",
              " 'val_accuracy': [0.5070422291755676,\n",
              "  0.7323943376541138,\n",
              "  0.7183098793029785,\n",
              "  0.6901408433914185,\n",
              "  0.7464788556098938,\n",
              "  0.7464788556098938,\n",
              "  0.7746478915214539,\n",
              "  0.8028169274330139,\n",
              "  0.7887324094772339,\n",
              "  0.7887324094772339],\n",
              " 'val_loss': [1.0379111766815186,\n",
              "  0.8051376938819885,\n",
              "  0.7536662817001343,\n",
              "  0.7689419388771057,\n",
              "  0.8012498021125793,\n",
              "  0.7405144572257996,\n",
              "  1.0873422622680664,\n",
              "  1.0090079307556152,\n",
              "  1.1258260011672974,\n",
              "  1.2216641902923584]}"
            ]
          },
          "metadata": {},
          "execution_count": 17
        }
      ]
    },
    {
      "cell_type": "code",
      "source": [
        "import matplotlib.pyplot as mp\n",
        "\n",
        "mp.plot(h.history['accuracy'], color='blue')\n",
        "mp.plot(h.history['val_accuracy'], color='green')\n",
        "mp.xlabel('epoch')\n",
        "mp.ylabel('accuracy')\n",
        "mp.legend(['train', 'valid'])\n",
        "mp.title('Accuracy vs Epochs')"
      ],
      "metadata": {
        "id": "45PzaxtTmHfd",
        "colab": {
          "base_uri": "https://localhost:8080/",
          "height": 490
        },
        "outputId": "a16422d9-0c48-4d75-a40f-6552b5dd925e"
      },
      "execution_count": 18,
      "outputs": [
        {
          "output_type": "execute_result",
          "data": {
            "text/plain": [
              "Text(0.5, 1.0, 'Accuracy vs Epochs')"
            ]
          },
          "metadata": {},
          "execution_count": 18
        },
        {
          "output_type": "display_data",
          "data": {
            "text/plain": [
              "<Figure size 640x480 with 1 Axes>"
            ],
            "image/png": "[encoded data removed]"
          },
          "metadata": {}
        }
      ]
    },
    {
      "cell_type": "code",
      "source": [
        "import matplotlib.pyplot as mp\n",
        "\n",
        "mp.plot(h.history['loss'], color='blue')\n",
        "mp.plot(h.history['val_loss'], color='green')\n",
        "mp.xlabel('epoch')\n",
        "mp.ylabel('loss')\n",
        "mp.legend(['train', 'valid'])\n",
        "mp.title('Loss vs Epochs')"
      ],
      "metadata": {
        "id": "ZdL-di4XmVj1",
        "colab": {
          "base_uri": "https://localhost:8080/",
          "height": 490
        },
        "outputId": "f5755dca-ea2c-4cb6-a355-1fc673634b91"
      },
      "execution_count": 19,
      "outputs": [
        {
          "output_type": "execute_result",
          "data": {
            "text/plain": [
              "Text(0.5, 1.0, 'Loss vs Epochs')"
            ]
          },
          "metadata": {},
          "execution_count": 19
        },
        {
          "output_type": "display_data",
          "data": {
            "text/plain": [
              "<Figure size 640x480 with 1 Axes>"
            ],
            "image/png": "[encoded data removed]"
          },
          "metadata": {}
        }
      ]
    },
    {
      "cell_type": "markdown",
      "source": [
        "Test the Model"
      ],
      "metadata": {
        "id": "VGUELo3PIzPk"
      }
    },
    {
      "cell_type": "code",
      "source": [
        "loss, accuracy = model.evaluate(test_ds)\n",
        "print(f'Test Accuracy: {accuracy:.2f}')\n",
        "print(f'Test Loss: {loss:.2f}')\n"
      ],
      "metadata": {
        "id": "8S1iEREarBsz",
        "colab": {
          "base_uri": "https://localhost:8080/"
        },
        "outputId": "43cf9c56-f7f4-4aea-e236-f28651bd675f"
      },
      "execution_count": 20,
      "outputs": [
        {
          "output_type": "stream",
          "name": "stdout",
          "text": [
            "\u001b[1m1/1\u001b[0m \u001b[32m━━━━━━━━━━━━━━━━━━━━\u001b[0m\u001b[37m\u001b[0m \u001b[1m1s\u001b[0m 1s/step - accuracy: 0.8163 - loss: 1.1647\n",
            "Test Accuracy: 0.82\n",
            "Test Loss: 1.16\n"
          ]
        }
      ]
    },
    {
      "cell_type": "code",
      "source": [
        "import numpy as np"
      ],
      "metadata": {
        "id": "Fmn190GBsmiG"
      },
      "execution_count": 21,
      "outputs": []
    },
    {
      "cell_type": "code",
      "source": [
        "for images, labels in test_ds:\n",
        "    predictions = model.predict(images)\n",
        "    for i in range(len(images)):\n",
        "        image_path = test_ds.file_paths[i]  # Assuming test_ds contains file paths\n",
        "        index_pred = np.argmax(predictions[i])\n",
        "        class_names = ['Banarasi', 'Ikat', 'Pichwai']\n",
        "        predicted_class = class_names[index_pred]\n",
        "        print(\"Image Path:\", image_path)\n",
        "        print(\"Predicted class:\", predicted_class)\n"
      ],
      "metadata": {
        "id": "mSCNko-PropD",
        "colab": {
          "base_uri": "https://localhost:8080/"
        },
        "outputId": "900757d5-fdef-4f65-8c1b-d5bc2fcc0fea"
      },
      "execution_count": 22,
      "outputs": [
        {
          "output_type": "stream",
          "name": "stdout",
          "text": [
            "\u001b[1m2/2\u001b[0m \u001b[32m━━━━━━━━━━━━━━━━━━━━\u001b[0m\u001b[37m\u001b[0m \u001b[1m1s\u001b[0m 442ms/step\n",
            "Image Path: /content/indian-fabrics-3-classes/test/Banarasi/images13_jpg.rf.f2a3b1720972de4bb75b7fcb062269c8.jpg\n",
            "Predicted class: Banarasi\n",
            "Image Path: /content/indian-fabrics-3-classes/test/Banarasi/images33_jpg.rf.b224fd1647ca405f955e199d2b136f2b.jpg\n",
            "Predicted class: Pichwai\n",
            "Image Path: /content/indian-fabrics-3-classes/test/Ikat/images33_jpg.rf.9e6ae9d131373c18cdbe6273089867f6.jpg\n",
            "Predicted class: Banarasi\n",
            "Image Path: /content/indian-fabrics-3-classes/test/Pichwai/pastel-hand-painted-pure-moonga-silk-pichwai-blouse-fabric-1-mtr-714991_jpg.rf.11185ddc8f105f1a385559cb725f5cc7.jpg\n",
            "Predicted class: Pichwai\n",
            "Image Path: /content/indian-fabrics-3-classes/test/Banarasi/red-traditonal-banarasi-silk-brocade-fabric-2018415488-kfz42azv_jpg.rf.db3ab1c289bebaecbcff8767f5644a8c.jpg\n",
            "Predicted class: Pichwai\n",
            "Image Path: /content/indian-fabrics-3-classes/test/Banarasi/FKACJRD10028_2_1200x_jpg.rf.b6a9cf3e00dfa401ad208adce5ffac55.jpg\n",
            "Predicted class: Pichwai\n",
            "Image Path: /content/indian-fabrics-3-classes/test/Pichwai/94235-3-202_jpg.rf.63093f3d3842db637c05c34ee2851af2.jpg\n",
            "Predicted class: Pichwai\n",
            "Image Path: /content/indian-fabrics-3-classes/test/Banarasi/images165_jpg.rf.69c08ad29cd52eddbeb529e48397898d.jpg\n",
            "Predicted class: Pichwai\n",
            "Image Path: /content/indian-fabrics-3-classes/test/Ikat/images2_jpg.rf.02a6b1ab9b6a85556c27609b6cdc69d2.jpg\n",
            "Predicted class: Banarasi\n",
            "Image Path: /content/indian-fabrics-3-classes/test/Banarasi/images137_jpg.rf.0cc7bafc4b52a70afb5ec9e679a132e1.jpg\n",
            "Predicted class: Banarasi\n",
            "Image Path: /content/indian-fabrics-3-classes/test/Ikat/ABB80897-FE29-4D7E-9FB3-438565872A39_1_201_a_1024x10242x_jpg.rf.4d4aa9bb60c2154ad8aad58ee8ef9173.jpg\n",
            "Predicted class: Pichwai\n",
            "Image Path: /content/indian-fabrics-3-classes/test/Pichwai/images24_jpg.rf.82b0457b8451ba98639e5a9bf7dc18a8.jpg\n",
            "Predicted class: Banarasi\n",
            "Image Path: /content/indian-fabrics-3-classes/test/Banarasi/images154_jpg.rf.af53dcd0bb1f8ca3a5f74f31393e3761.jpg\n",
            "Predicted class: Ikat\n",
            "Image Path: /content/indian-fabrics-3-classes/test/Pichwai/DSC07221_Medium_87b37a73-5171-47f6-af65-9602d6206692_jpg.rf.017ebb2ce2785fa45994804834aca36e.jpg\n",
            "Predicted class: Banarasi\n",
            "Image Path: /content/indian-fabrics-3-classes/test/Banarasi/image19_jpeg.rf.03c31350253eb513e405bd998f9fa9bf.jpg\n",
            "Predicted class: Banarasi\n",
            "Image Path: /content/indian-fabrics-3-classes/test/Banarasi/IG_04011_jpg.rf.ab2e485681de61ac37a88ee374947f20.jpg\n",
            "Predicted class: Pichwai\n",
            "Image Path: /content/indian-fabrics-3-classes/test/Banarasi/images102_jpg.rf.f420915e94eb4bc0244f4a49d92b50b0.jpg\n",
            "Predicted class: Ikat\n",
            "Image Path: /content/indian-fabrics-3-classes/test/Ikat/images16_jpg.rf.72b40d91b758a8038c5198adc15924f5.jpg\n",
            "Predicted class: Pichwai\n",
            "Image Path: /content/indian-fabrics-3-classes/test/Pichwai/image19_jpeg.rf.1e1ae4c2b3e979d84fa61e12951a9559.jpg\n",
            "Predicted class: Pichwai\n",
            "Image Path: /content/indian-fabrics-3-classes/test/Ikat/f46-1_21128d53-1a33-419c-9643-58618f1013c8_jpg.rf.adac2c7ab9c5335cefbc3ba18cf6c4f8.jpg\n",
            "Predicted class: Ikat\n",
            "Image Path: /content/indian-fabrics-3-classes/test/Ikat/images7_jpg.rf.74017171f37deb9d4c9ebf64652599d8.jpg\n",
            "Predicted class: Banarasi\n",
            "Image Path: /content/indian-fabrics-3-classes/test/Banarasi/images42_jpg.rf.ccac6b7048d37352c69f409e7e669821.jpg\n",
            "Predicted class: Banarasi\n",
            "Image Path: /content/indian-fabrics-3-classes/test/Pichwai/22003334-B_jpg.rf.74bce99ac3eebfb5a007f6c6311e0867.jpg\n",
            "Predicted class: Banarasi\n",
            "Image Path: /content/indian-fabrics-3-classes/test/Ikat/images11_jpg.rf.79b597424656a2fabb74a3b5025f2bee.jpg\n",
            "Predicted class: Banarasi\n",
            "Image Path: /content/indian-fabrics-3-classes/test/Banarasi/images117_jpg.rf.032c6291752f728f46eb588166856cd3.jpg\n",
            "Predicted class: Pichwai\n",
            "Image Path: /content/indian-fabrics-3-classes/test/Ikat/-473Wx593H-469483210-multi-MODEL_jpg.rf.896ace1ca420f5f07b9c9df0a8466bf1.jpg\n",
            "Predicted class: Banarasi\n",
            "Image Path: /content/indian-fabrics-3-classes/test/Pichwai/images2_jpg.rf.1e897de0921e30de0d787933ff7fe36e.jpg\n",
            "Predicted class: Ikat\n",
            "Image Path: /content/indian-fabrics-3-classes/test/Banarasi/IMG_E9590_2796f3d7-9007-4e6c-923c-b46a3c378b4b_jpg.rf.a71486f377401a9e6acdd2966f21c9c2.jpg\n",
            "Predicted class: Banarasi\n",
            "Image Path: /content/indian-fabrics-3-classes/test/Ikat/e42f5dd20f355044d6cda9e30444b36c_jpg.rf.a3306754f8bdfcaa9410fbf3f2e37472.jpg\n",
            "Predicted class: Banarasi\n",
            "Image Path: /content/indian-fabrics-3-classes/test/Pichwai/il_1140xN-3336549267_bg7z_jpg.rf.d7ef573c4417a24f995137729497129b.jpg\n",
            "Predicted class: Pichwai\n",
            "Image Path: /content/indian-fabrics-3-classes/test/Banarasi/image10_jpeg.rf.3ea58bed195a6cf66993888488fc683c.jpg\n",
            "Predicted class: Pichwai\n",
            "Image Path: /content/indian-fabrics-3-classes/test/Banarasi/images63_jpg.rf.34aa6a555a77b707800294929a181729.jpg\n",
            "Predicted class: Banarasi\n",
            "Image Path: /content/indian-fabrics-3-classes/test/Pichwai/27042022040344_png.rf.35b6e139045bd0e9edf0356b2e77f5e1.jpg\n",
            "Predicted class: Ikat\n",
            "Image Path: /content/indian-fabrics-3-classes/test/Banarasi/images34_jpg.rf.4eda2027e8a35ae5b22ca9331f9fd284.jpg\n",
            "Predicted class: Pichwai\n",
            "Image Path: /content/indian-fabrics-3-classes/test/Pichwai/PICHWAI-100005-01_jpg.rf.78aca72d64b640652f3171dd31284757.jpg\n",
            "Predicted class: Banarasi\n",
            "Image Path: /content/indian-fabrics-3-classes/test/Ikat/image_jpeg.rf.e61fe17efe6729c908868bd20dfb7ea0.jpg\n",
            "Predicted class: Pichwai\n",
            "Image Path: /content/indian-fabrics-3-classes/test/Pichwai/48062-DSC_9739-JPG_jpg.rf.f0bbe31c8ade6c5c1991268b59cb2166.jpg\n",
            "Predicted class: Pichwai\n",
            "Image Path: /content/indian-fabrics-3-classes/test/Pichwai/833_6772_1563199443_jpg.rf.87bdfd8b2e4c68273c3e1b7dfacdf72c.jpg\n",
            "Predicted class: Pichwai\n",
            "Image Path: /content/indian-fabrics-3-classes/test/Banarasi/images139_jpg.rf.8e00005559a458c891ae4adacd8941dd.jpg\n",
            "Predicted class: Ikat\n",
            "Image Path: /content/indian-fabrics-3-classes/test/Ikat/img_5849_3_1280x_jpg.rf.7c55911d0a2bc68ab0b339d377cd1f36.jpg\n",
            "Predicted class: Banarasi\n",
            "Image Path: /content/indian-fabrics-3-classes/test/Ikat/whatsapp-image-2023-03-21-at-20-18-28_jpeg.rf.9a3419e13ce921947769c33b0ad3b21e.jpg\n",
            "Predicted class: Banarasi\n",
            "Image Path: /content/indian-fabrics-3-classes/test/Ikat/Pochampally20Violet20Cotton20Ikat20Fabric-1000x1000_jpeg.rf.7718f9f18ee2f7b5213af34d3cbc41db.jpg\n",
            "Predicted class: Ikat\n",
            "Image Path: /content/indian-fabrics-3-classes/test/Banarasi/sf40595-saroj-fabrics-purple-banarasi-fabric_jpg.rf.e25e831e8fc6c846a2ab5e8ef24bd165.jpg\n",
            "Predicted class: Ikat\n",
            "Image Path: /content/indian-fabrics-3-classes/test/Banarasi/images93_jpg.rf.d1c511b77ef99040201d17d5dfda33c0.jpg\n",
            "Predicted class: Banarasi\n",
            "Image Path: /content/indian-fabrics-3-classes/test/Pichwai/71VxsnD2t8L-_AC_UF8941000_QL80__jpg.rf.f8c61cc9601ae711b89798ae9f0ff186.jpg\n",
            "Predicted class: Banarasi\n",
            "Image Path: /content/indian-fabrics-3-classes/test/Pichwai/0fd2df9315d8aba5cf9471c838a639aa_jpg.rf.8af9125e06a5d8518102a7b9efdae70a.jpg\n",
            "Predicted class: Ikat\n",
            "Image Path: /content/indian-fabrics-3-classes/test/Ikat/images23_jpg.rf.1b4ca76eef45e3537528107f5b6e6c89.jpg\n",
            "Predicted class: Banarasi\n",
            "Image Path: /content/indian-fabrics-3-classes/test/Banarasi/IG_09957_bf42d59b-be3e-45e3-a9b9-54ac921bcbcc_jpg.rf.af800d9117f90db4f19670bff8d18049.jpg\n",
            "Predicted class: Banarasi\n",
            "Image Path: /content/indian-fabrics-3-classes/test/Pichwai/image27_jpeg.rf.4b850f7338f54b53a643b330c2858bbd.jpg\n",
            "Predicted class: Banarasi\n"
          ]
        }
      ]
    },
    {
      "cell_type": "code",
      "source": [
        "from tensorflow.keras.preprocessing import image\n"
      ],
      "metadata": {
        "id": "hlmZaczDuFTK"
      },
      "execution_count": 23,
      "outputs": []
    },
    {
      "cell_type": "code",
      "source": [
        "img = image.load_img('/content/indian-fabrics-3-classes/test/Ikat/images11_jpg.rf.79b597424656a2fabb74a3b5025f2bee.jpg', target_size=(320, 320))\n",
        "img_array = image.img_to_array(img)\n",
        "img_array = np.expand_dims(img_array, axis=0)\n",
        "print(img_array.shape)\n",
        "img_array /= 255.0\n",
        "a= model.predict(img_array)\n",
        "pred_class_ind = np.argmax(a)\n",
        "print(a)\n",
        "print(class_names[pred_class_ind])\n",
        "\n"
      ],
      "metadata": {
        "id": "hYn1tdtXttSv",
        "colab": {
          "base_uri": "https://localhost:8080/"
        },
        "outputId": "b6bdeac1-5a47-4c38-fc06-ea6691376b40"
      },
      "execution_count": 28,
      "outputs": [
        {
          "output_type": "stream",
          "name": "stdout",
          "text": [
            "(1, 320, 320, 3)\n",
            "\u001b[1m1/1\u001b[0m \u001b[32m━━━━━━━━━━━━━━━━━━━━\u001b[0m\u001b[37m\u001b[0m \u001b[1m0s\u001b[0m 23ms/step\n",
            "[[0.24739887 0.60566515 0.14693597]]\n",
            "Ikat\n"
          ]
        }
      ]
    },
    {
      "cell_type": "code",
      "source": [
        "class_names = test_ds.class_names\n",
        "print(\"Class Names:\", class_names)\n"
      ],
      "metadata": {
        "id": "djrcCwPItlzL",
        "colab": {
          "base_uri": "https://localhost:8080/"
        },
        "outputId": "b702d9cf-79cb-4b9b-e5a2-dffc3a8b0702"
      },
      "execution_count": 26,
      "outputs": [
        {
          "output_type": "stream",
          "name": "stdout",
          "text": [
            "Class Names: ['Banarasi', 'Ikat', 'Pichwai']\n"
          ]
        }
      ]
    },
    {
      "cell_type": "code",
      "source": [],
      "metadata": {
        "id": "8Rr9L__lDR3L"
      },
      "execution_count": null,
      "outputs": []
    }
  ]
}