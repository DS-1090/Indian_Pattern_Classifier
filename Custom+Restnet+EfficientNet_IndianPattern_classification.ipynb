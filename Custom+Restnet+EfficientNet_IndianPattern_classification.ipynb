{
  "nbformat": 4,
  "nbformat_minor": 0,
  "metadata": {
    "colab": {
      "provenance": [],
      "gpuType": "T4",
      "include_colab_link": true
    },
    "kernelspec": {
      "name": "python3",
      "display_name": "Python 3"
    },
    "language_info": {
      "name": "python"
    },
    "accelerator": "GPU"
  },
  "cells": [
    {
      "cell_type": "markdown",
      "metadata": {
        "id": "view-in-github",
        "colab_type": "text"
      },
      "source": [
        "<a href=\"https://colab.research.google.com/github/DS-1090/Indian_Pattern_Classifier/blob/main/Custom%2BRestnet%2BEfficientNet_IndianPattern_classification.ipynb\" target=\"_parent\"><img src=\"https://colab.research.google.com/assets/colab-badge.svg\" alt=\"Open In Colab\"/></a>"
      ]
    },
    {
      "cell_type": "markdown",
      "source": [
        "Downloading Dataset"
      ],
      "metadata": {
        "id": "j4XtgGILIXSl"
      }
    },
    {
      "cell_type": "code",
      "execution_count": 1,
      "metadata": {
        "colab": {
          "base_uri": "https://localhost:8080/"
        },
        "id": "Ji2RxHO9Ya_6",
        "outputId": "e98221ce-6f68-4e70-960c-66a5cf91a387"
      },
      "outputs": [
        {
          "output_type": "stream",
          "name": "stdout",
          "text": [
            "Collecting opendatasets\n",
            "  Downloading opendatasets-0.1.22-py3-none-any.whl.metadata (9.2 kB)\n",
            "Requirement already satisfied: tqdm in /usr/local/lib/python3.10/dist-packages (from opendatasets) (4.67.1)\n",
            "Requirement already satisfied: kaggle in /usr/local/lib/python3.10/dist-packages (from opendatasets) (1.6.17)\n",
            "Requirement already satisfied: click in /usr/local/lib/python3.10/dist-packages (from opendatasets) (8.1.7)\n",
            "Requirement already satisfied: six>=1.10 in /usr/local/lib/python3.10/dist-packages (from kaggle->opendatasets) (1.17.0)\n",
            "Requirement already satisfied: certifi>=2023.7.22 in /usr/local/lib/python3.10/dist-packages (from kaggle->opendatasets) (2024.12.14)\n",
            "Requirement already satisfied: python-dateutil in /usr/local/lib/python3.10/dist-packages (from kaggle->opendatasets) (2.8.2)\n",
            "Requirement already satisfied: requests in /usr/local/lib/python3.10/dist-packages (from kaggle->opendatasets) (2.32.3)\n",
            "Requirement already satisfied: python-slugify in /usr/local/lib/python3.10/dist-packages (from kaggle->opendatasets) (8.0.4)\n",
            "Requirement already satisfied: urllib3 in /usr/local/lib/python3.10/dist-packages (from kaggle->opendatasets) (2.2.3)\n",
            "Requirement already satisfied: bleach in /usr/local/lib/python3.10/dist-packages (from kaggle->opendatasets) (6.2.0)\n",
            "Requirement already satisfied: webencodings in /usr/local/lib/python3.10/dist-packages (from bleach->kaggle->opendatasets) (0.5.1)\n",
            "Requirement already satisfied: text-unidecode>=1.3 in /usr/local/lib/python3.10/dist-packages (from python-slugify->kaggle->opendatasets) (1.3)\n",
            "Requirement already satisfied: charset-normalizer<4,>=2 in /usr/local/lib/python3.10/dist-packages (from requests->kaggle->opendatasets) (3.4.0)\n",
            "Requirement already satisfied: idna<4,>=2.5 in /usr/local/lib/python3.10/dist-packages (from requests->kaggle->opendatasets) (3.10)\n",
            "Downloading opendatasets-0.1.22-py3-none-any.whl (15 kB)\n",
            "Installing collected packages: opendatasets\n",
            "Successfully installed opendatasets-0.1.22\n"
          ]
        }
      ],
      "source": [
        "pip install opendatasets\n"
      ]
    },
    {
      "cell_type": "code",
      "source": [
        "import opendatasets as od\n",
        "od.download(\"https://www.kaggle.com/datasets/div456/indian-fabrics-3-classes\")\n"
      ],
      "metadata": {
        "colab": {
          "base_uri": "https://localhost:8080/"
        },
        "id": "NRTZoLXGZAZI",
        "outputId": "aaddb474-dabe-47dc-9824-a7bd846285bc"
      },
      "execution_count": 2,
      "outputs": [
        {
          "output_type": "stream",
          "name": "stdout",
          "text": [
            "Please provide your Kaggle credentials to download this dataset. Learn more: http://bit.ly/kaggle-creds\n",
            "Your Kaggle username: div456\n",
            "Your Kaggle Key: ··········\n",
            "Dataset URL: https://www.kaggle.com/datasets/div456/indian-fabrics-3-classes\n",
            "Downloading indian-fabrics-3-classes.zip to ./indian-fabrics-3-classes\n"
          ]
        },
        {
          "output_type": "stream",
          "name": "stderr",
          "text": [
            "100%|██████████| 88.4M/88.4M [00:04<00:00, 18.8MB/s]\n"
          ]
        },
        {
          "output_type": "stream",
          "name": "stdout",
          "text": [
            "\n"
          ]
        }
      ]
    },
    {
      "cell_type": "markdown",
      "source": [
        "Importing Libraries\n"
      ],
      "metadata": {
        "id": "MlfVKex6IbyX"
      }
    },
    {
      "cell_type": "code",
      "source": [
        "from tensorflow import keras\n",
        "import tensorflow as tf\n",
        "from tensorflow.keras import layers\n",
        "from tensorflow.keras.models import Sequential\n",
        "from tensorflow.keras.layers import Conv2D, MaxPooling2D, Flatten, Dense, Dropout\n",
        "# from tensorflow.keras.preprocessing.image import ImageDataGenerator\n",
        "from tensorflow.keras.layers import BatchNormalization\n"
      ],
      "metadata": {
        "id": "4jRoZbwfZLuO"
      },
      "execution_count": 3,
      "outputs": []
    },
    {
      "cell_type": "markdown",
      "source": [
        "Creating Train, Valid, Test Datasets\n"
      ],
      "metadata": {
        "id": "laWBr_tfIhmT"
      }
    },
    {
      "cell_type": "code",
      "source": [
        "import pathlib\n",
        "\n",
        "data_dir = pathlib.Path('/content/indian-fabrics-3-classes/train')"
      ],
      "metadata": {
        "id": "QLEpwYCse4Kx"
      },
      "execution_count": 4,
      "outputs": []
    },
    {
      "cell_type": "code",
      "source": [
        "train_ds = tf.keras.utils.image_dataset_from_directory(\n",
        "  data_dir,\n",
        "  seed=123,\n",
        "  image_size=(320, 320),\n",
        "  batch_size=64,\n",
        "  color_mode='rgb',\n",
        "  labels='inferred',\n",
        "  label_mode='int'\n",
        "  )\n"
      ],
      "metadata": {
        "colab": {
          "base_uri": "https://localhost:8080/"
        },
        "id": "H05XlfL0eqgl",
        "outputId": "15a6fde3-929f-426b-d832-4fd82f41d350"
      },
      "execution_count": 5,
      "outputs": [
        {
          "output_type": "stream",
          "name": "stdout",
          "text": [
            "Found 1068 files belonging to 3 classes.\n"
          ]
        }
      ]
    },
    {
      "cell_type": "code",
      "source": [
        "data_dir = pathlib.Path('/content/indian-fabrics-3-classes/valid')\n",
        "valid_ds = tf.keras.utils.image_dataset_from_directory(\n",
        "  data_dir,\n",
        "  seed=123,\n",
        "  image_size=(320, 320),\n",
        "  batch_size=64,\n",
        "  color_mode='rgb',\n",
        "  labels='inferred',\n",
        "  label_mode='int'\n",
        "  )\n"
      ],
      "metadata": {
        "colab": {
          "base_uri": "https://localhost:8080/"
        },
        "id": "qaWXhlPif6p9",
        "outputId": "94c25959-9073-4e39-bdde-bf9ca1b2ef94"
      },
      "execution_count": 6,
      "outputs": [
        {
          "output_type": "stream",
          "name": "stdout",
          "text": [
            "Found 71 files belonging to 3 classes.\n"
          ]
        }
      ]
    },
    {
      "cell_type": "code",
      "source": [
        "data_dir = pathlib.Path('/content/indian-fabrics-3-classes/test')\n",
        "test_ds = tf.keras.utils.image_dataset_from_directory(\n",
        "  data_dir,\n",
        "  seed=123,\n",
        "  image_size=(320, 320),\n",
        "  batch_size=64,\n",
        "  color_mode='rgb',\n",
        "  labels='inferred',\n",
        "  label_mode='int'\n",
        "  )\n"
      ],
      "metadata": {
        "colab": {
          "base_uri": "https://localhost:8080/"
        },
        "id": "Ha0FMA_pgE4e",
        "outputId": "5648482d-15a3-4cdb-9f7c-1727a551e499"
      },
      "execution_count": 7,
      "outputs": [
        {
          "output_type": "stream",
          "name": "stdout",
          "text": [
            "Found 49 files belonging to 3 classes.\n"
          ]
        }
      ]
    },
    {
      "cell_type": "code",
      "source": [
        "batch_size = 64\n",
        "img_height = 320\n",
        "img_width = 320\n"
      ],
      "metadata": {
        "id": "zY_EebMJb1Hx"
      },
      "execution_count": 8,
      "outputs": []
    },
    {
      "cell_type": "markdown",
      "source": [
        "Create & Train the model"
      ],
      "metadata": {
        "id": "RMKbw-qpIsQO"
      }
    },
    {
      "cell_type": "code",
      "source": [
        "model = Sequential()"
      ],
      "metadata": {
        "id": "htSliKfubRjy"
      },
      "execution_count": 9,
      "outputs": []
    },
    {
      "cell_type": "code",
      "source": [
        "model.add(layers.Rescaling(1./255, input_shape=(img_height, img_width, 3)))"
      ],
      "metadata": {
        "id": "vfYUZ5Iwbrv8",
        "colab": {
          "base_uri": "https://localhost:8080/"
        },
        "outputId": "c5056b62-af9f-45ff-ca90-60b80aae0982"
      },
      "execution_count": 10,
      "outputs": [
        {
          "output_type": "stream",
          "name": "stderr",
          "text": [
            "/usr/local/lib/python3.10/dist-packages/keras/src/layers/preprocessing/tf_data_layer.py:19: UserWarning: Do not pass an `input_shape`/`input_dim` argument to a layer. When using Sequential models, prefer using an `Input(shape)` object as the first layer in the model instead.\n",
            "  super().__init__(**kwargs)\n"
          ]
        }
      ]
    },
    {
      "cell_type": "code",
      "source": [
        "# model.add(layers.RandomFlip(\"horizontal\",input_shape=(img_height,img_width,3)))\n",
        "# model.add(layers.RandomRotation(0.1, fill_mode='nearest'))\n",
        "# model.add(layers.RandomZoom(0.1))\n",
        "# model.add(layers.RandomContrast(0.1))\n",
        "# model.add(layers.RandomBrightness(0.04))"
      ],
      "metadata": {
        "id": "Po7pvWiBoRlk"
      },
      "execution_count": null,
      "outputs": []
    },
    {
      "cell_type": "code",
      "source": [
        "\n",
        "# model.add(Conv2D(64, 3, padding='same', activation='relu'))\n",
        "# model.add(BatchNormalization())\n",
        "# model.add(MaxPooling2D())\n",
        "\n",
        "model.add(Conv2D(32, 3, padding='same', activation='relu'))\n",
        "model.add(MaxPooling2D())\n",
        "\n",
        "model.add(Conv2D(16, 3, padding='same', activation='relu'))\n",
        "model.add(MaxPooling2D())\n",
        "\n",
        "# model.add(Conv2D(128, 3, padding='same', activation='relu'))\n",
        "# model.add(BatchNormalization())\n",
        "# model.add(MaxPooling2D())\n",
        "\n",
        "model.add(Flatten())\n",
        "# model.add(Dense(256, activation='relu'))\n",
        "# model.add(Dropout(0.3))\n",
        "model.add(Dense(64, activation='relu'))\n",
        "model.add(Dropout(0.1))\n",
        "model.add(Dense(32, activation='relu'))\n",
        "model.add(Dense(3, activation='softmax'))\n"
      ],
      "metadata": {
        "id": "GXgm74YmcV3V"
      },
      "execution_count": 11,
      "outputs": []
    },
    {
      "cell_type": "code",
      "source": [
        "model.compile(optimizer='adam',\n",
        "              loss=tf.keras.losses.SparseCategoricalCrossentropy(),\n",
        "              metrics=['accuracy'],\n",
        "              run_eagerly=True\n",
        "               )\n"
      ],
      "metadata": {
        "id": "6JcTtQEVdzS_"
      },
      "execution_count": 12,
      "outputs": []
    },
    {
      "cell_type": "code",
      "source": [
        "model.summary()\n"
      ],
      "metadata": {
        "colab": {
          "base_uri": "https://localhost:8080/",
          "height": 458
        },
        "id": "ZvSESoY1eZQD",
        "outputId": "dabf3e39-9df0-4c3f-a317-2be806fe58b5"
      },
      "execution_count": 13,
      "outputs": [
        {
          "output_type": "display_data",
          "data": {
            "text/plain": [
              "\u001b[1mModel: \"sequential\"\u001b[0m\n"
            ],
            "text/html": [
              "<pre style=\"white-space:pre;overflow-x:auto;line-height:normal;font-family:Menlo,'DejaVu Sans Mono',consolas,'Courier New',monospace\"><span style=\"font-weight: bold\">Model: \"sequential\"</span>\n",
              "</pre>\n"
            ]
          },
          "metadata": {}
        },
        {
          "output_type": "display_data",
          "data": {
            "text/plain": [
              "┏━━━━━━━━━━━━━━━━━━━━━━━━━━━━━━━━━━━━━━┳━━━━━━━━━━━━━━━━━━━━━━━━━━━━━┳━━━━━━━━━━━━━━━━━┓\n",
              "┃\u001b[1m \u001b[0m\u001b[1mLayer (type)                        \u001b[0m\u001b[1m \u001b[0m┃\u001b[1m \u001b[0m\u001b[1mOutput Shape               \u001b[0m\u001b[1m \u001b[0m┃\u001b[1m \u001b[0m\u001b[1m        Param #\u001b[0m\u001b[1m \u001b[0m┃\n",
              "┡━━━━━━━━━━━━━━━━━━━━━━━━━━━━━━━━━━━━━━╇━━━━━━━━━━━━━━━━━━━━━━━━━━━━━╇━━━━━━━━━━━━━━━━━┩\n",
              "│ rescaling (\u001b[38;5;33mRescaling\u001b[0m)                │ (\u001b[38;5;45mNone\u001b[0m, \u001b[38;5;34m320\u001b[0m, \u001b[38;5;34m320\u001b[0m, \u001b[38;5;34m3\u001b[0m)         │               \u001b[38;5;34m0\u001b[0m │\n",
              "├──────────────────────────────────────┼─────────────────────────────┼─────────────────┤\n",
              "│ conv2d (\u001b[38;5;33mConv2D\u001b[0m)                      │ (\u001b[38;5;45mNone\u001b[0m, \u001b[38;5;34m320\u001b[0m, \u001b[38;5;34m320\u001b[0m, \u001b[38;5;34m32\u001b[0m)        │             \u001b[38;5;34m896\u001b[0m │\n",
              "├──────────────────────────────────────┼─────────────────────────────┼─────────────────┤\n",
              "│ max_pooling2d (\u001b[38;5;33mMaxPooling2D\u001b[0m)         │ (\u001b[38;5;45mNone\u001b[0m, \u001b[38;5;34m160\u001b[0m, \u001b[38;5;34m160\u001b[0m, \u001b[38;5;34m32\u001b[0m)        │               \u001b[38;5;34m0\u001b[0m │\n",
              "├──────────────────────────────────────┼─────────────────────────────┼─────────────────┤\n",
              "│ conv2d_1 (\u001b[38;5;33mConv2D\u001b[0m)                    │ (\u001b[38;5;45mNone\u001b[0m, \u001b[38;5;34m160\u001b[0m, \u001b[38;5;34m160\u001b[0m, \u001b[38;5;34m16\u001b[0m)        │           \u001b[38;5;34m4,624\u001b[0m │\n",
              "├──────────────────────────────────────┼─────────────────────────────┼─────────────────┤\n",
              "│ max_pooling2d_1 (\u001b[38;5;33mMaxPooling2D\u001b[0m)       │ (\u001b[38;5;45mNone\u001b[0m, \u001b[38;5;34m80\u001b[0m, \u001b[38;5;34m80\u001b[0m, \u001b[38;5;34m16\u001b[0m)          │               \u001b[38;5;34m0\u001b[0m │\n",
              "├──────────────────────────────────────┼─────────────────────────────┼─────────────────┤\n",
              "│ flatten (\u001b[38;5;33mFlatten\u001b[0m)                    │ (\u001b[38;5;45mNone\u001b[0m, \u001b[38;5;34m102400\u001b[0m)              │               \u001b[38;5;34m0\u001b[0m │\n",
              "├──────────────────────────────────────┼─────────────────────────────┼─────────────────┤\n",
              "│ dense (\u001b[38;5;33mDense\u001b[0m)                        │ (\u001b[38;5;45mNone\u001b[0m, \u001b[38;5;34m64\u001b[0m)                  │       \u001b[38;5;34m6,553,664\u001b[0m │\n",
              "├──────────────────────────────────────┼─────────────────────────────┼─────────────────┤\n",
              "│ dropout (\u001b[38;5;33mDropout\u001b[0m)                    │ (\u001b[38;5;45mNone\u001b[0m, \u001b[38;5;34m64\u001b[0m)                  │               \u001b[38;5;34m0\u001b[0m │\n",
              "├──────────────────────────────────────┼─────────────────────────────┼─────────────────┤\n",
              "│ dense_1 (\u001b[38;5;33mDense\u001b[0m)                      │ (\u001b[38;5;45mNone\u001b[0m, \u001b[38;5;34m32\u001b[0m)                  │           \u001b[38;5;34m2,080\u001b[0m │\n",
              "├──────────────────────────────────────┼─────────────────────────────┼─────────────────┤\n",
              "│ dense_2 (\u001b[38;5;33mDense\u001b[0m)                      │ (\u001b[38;5;45mNone\u001b[0m, \u001b[38;5;34m3\u001b[0m)                   │              \u001b[38;5;34m99\u001b[0m │\n",
              "└──────────────────────────────────────┴─────────────────────────────┴─────────────────┘\n"
            ],
            "text/html": [
              "<pre style=\"white-space:pre;overflow-x:auto;line-height:normal;font-family:Menlo,'DejaVu Sans Mono',consolas,'Courier New',monospace\">┏━━━━━━━━━━━━━━━━━━━━━━━━━━━━━━━━━━━━━━┳━━━━━━━━━━━━━━━━━━━━━━━━━━━━━┳━━━━━━━━━━━━━━━━━┓\n",
              "┃<span style=\"font-weight: bold\"> Layer (type)                         </span>┃<span style=\"font-weight: bold\"> Output Shape                </span>┃<span style=\"font-weight: bold\">         Param # </span>┃\n",
              "┡━━━━━━━━━━━━━━━━━━━━━━━━━━━━━━━━━━━━━━╇━━━━━━━━━━━━━━━━━━━━━━━━━━━━━╇━━━━━━━━━━━━━━━━━┩\n",
              "│ rescaling (<span style=\"color: #0087ff; text-decoration-color: #0087ff\">Rescaling</span>)                │ (<span style=\"color: #00d7ff; text-decoration-color: #00d7ff\">None</span>, <span style=\"color: #00af00; text-decoration-color: #00af00\">320</span>, <span style=\"color: #00af00; text-decoration-color: #00af00\">320</span>, <span style=\"color: #00af00; text-decoration-color: #00af00\">3</span>)         │               <span style=\"color: #00af00; text-decoration-color: #00af00\">0</span> │\n",
              "├──────────────────────────────────────┼─────────────────────────────┼─────────────────┤\n",
              "│ conv2d (<span style=\"color: #0087ff; text-decoration-color: #0087ff\">Conv2D</span>)                      │ (<span style=\"color: #00d7ff; text-decoration-color: #00d7ff\">None</span>, <span style=\"color: #00af00; text-decoration-color: #00af00\">320</span>, <span style=\"color: #00af00; text-decoration-color: #00af00\">320</span>, <span style=\"color: #00af00; text-decoration-color: #00af00\">32</span>)        │             <span style=\"color: #00af00; text-decoration-color: #00af00\">896</span> │\n",
              "├──────────────────────────────────────┼─────────────────────────────┼─────────────────┤\n",
              "│ max_pooling2d (<span style=\"color: #0087ff; text-decoration-color: #0087ff\">MaxPooling2D</span>)         │ (<span style=\"color: #00d7ff; text-decoration-color: #00d7ff\">None</span>, <span style=\"color: #00af00; text-decoration-color: #00af00\">160</span>, <span style=\"color: #00af00; text-decoration-color: #00af00\">160</span>, <span style=\"color: #00af00; text-decoration-color: #00af00\">32</span>)        │               <span style=\"color: #00af00; text-decoration-color: #00af00\">0</span> │\n",
              "├──────────────────────────────────────┼─────────────────────────────┼─────────────────┤\n",
              "│ conv2d_1 (<span style=\"color: #0087ff; text-decoration-color: #0087ff\">Conv2D</span>)                    │ (<span style=\"color: #00d7ff; text-decoration-color: #00d7ff\">None</span>, <span style=\"color: #00af00; text-decoration-color: #00af00\">160</span>, <span style=\"color: #00af00; text-decoration-color: #00af00\">160</span>, <span style=\"color: #00af00; text-decoration-color: #00af00\">16</span>)        │           <span style=\"color: #00af00; text-decoration-color: #00af00\">4,624</span> │\n",
              "├──────────────────────────────────────┼─────────────────────────────┼─────────────────┤\n",
              "│ max_pooling2d_1 (<span style=\"color: #0087ff; text-decoration-color: #0087ff\">MaxPooling2D</span>)       │ (<span style=\"color: #00d7ff; text-decoration-color: #00d7ff\">None</span>, <span style=\"color: #00af00; text-decoration-color: #00af00\">80</span>, <span style=\"color: #00af00; text-decoration-color: #00af00\">80</span>, <span style=\"color: #00af00; text-decoration-color: #00af00\">16</span>)          │               <span style=\"color: #00af00; text-decoration-color: #00af00\">0</span> │\n",
              "├──────────────────────────────────────┼─────────────────────────────┼─────────────────┤\n",
              "│ flatten (<span style=\"color: #0087ff; text-decoration-color: #0087ff\">Flatten</span>)                    │ (<span style=\"color: #00d7ff; text-decoration-color: #00d7ff\">None</span>, <span style=\"color: #00af00; text-decoration-color: #00af00\">102400</span>)              │               <span style=\"color: #00af00; text-decoration-color: #00af00\">0</span> │\n",
              "├──────────────────────────────────────┼─────────────────────────────┼─────────────────┤\n",
              "│ dense (<span style=\"color: #0087ff; text-decoration-color: #0087ff\">Dense</span>)                        │ (<span style=\"color: #00d7ff; text-decoration-color: #00d7ff\">None</span>, <span style=\"color: #00af00; text-decoration-color: #00af00\">64</span>)                  │       <span style=\"color: #00af00; text-decoration-color: #00af00\">6,553,664</span> │\n",
              "├──────────────────────────────────────┼─────────────────────────────┼─────────────────┤\n",
              "│ dropout (<span style=\"color: #0087ff; text-decoration-color: #0087ff\">Dropout</span>)                    │ (<span style=\"color: #00d7ff; text-decoration-color: #00d7ff\">None</span>, <span style=\"color: #00af00; text-decoration-color: #00af00\">64</span>)                  │               <span style=\"color: #00af00; text-decoration-color: #00af00\">0</span> │\n",
              "├──────────────────────────────────────┼─────────────────────────────┼─────────────────┤\n",
              "│ dense_1 (<span style=\"color: #0087ff; text-decoration-color: #0087ff\">Dense</span>)                      │ (<span style=\"color: #00d7ff; text-decoration-color: #00d7ff\">None</span>, <span style=\"color: #00af00; text-decoration-color: #00af00\">32</span>)                  │           <span style=\"color: #00af00; text-decoration-color: #00af00\">2,080</span> │\n",
              "├──────────────────────────────────────┼─────────────────────────────┼─────────────────┤\n",
              "│ dense_2 (<span style=\"color: #0087ff; text-decoration-color: #0087ff\">Dense</span>)                      │ (<span style=\"color: #00d7ff; text-decoration-color: #00d7ff\">None</span>, <span style=\"color: #00af00; text-decoration-color: #00af00\">3</span>)                   │              <span style=\"color: #00af00; text-decoration-color: #00af00\">99</span> │\n",
              "└──────────────────────────────────────┴─────────────────────────────┴─────────────────┘\n",
              "</pre>\n"
            ]
          },
          "metadata": {}
        },
        {
          "output_type": "display_data",
          "data": {
            "text/plain": [
              "\u001b[1m Total params: \u001b[0m\u001b[38;5;34m6,561,363\u001b[0m (25.03 MB)\n"
            ],
            "text/html": [
              "<pre style=\"white-space:pre;overflow-x:auto;line-height:normal;font-family:Menlo,'DejaVu Sans Mono',consolas,'Courier New',monospace\"><span style=\"font-weight: bold\"> Total params: </span><span style=\"color: #00af00; text-decoration-color: #00af00\">6,561,363</span> (25.03 MB)\n",
              "</pre>\n"
            ]
          },
          "metadata": {}
        },
        {
          "output_type": "display_data",
          "data": {
            "text/plain": [
              "\u001b[1m Trainable params: \u001b[0m\u001b[38;5;34m6,561,363\u001b[0m (25.03 MB)\n"
            ],
            "text/html": [
              "<pre style=\"white-space:pre;overflow-x:auto;line-height:normal;font-family:Menlo,'DejaVu Sans Mono',consolas,'Courier New',monospace\"><span style=\"font-weight: bold\"> Trainable params: </span><span style=\"color: #00af00; text-decoration-color: #00af00\">6,561,363</span> (25.03 MB)\n",
              "</pre>\n"
            ]
          },
          "metadata": {}
        },
        {
          "output_type": "display_data",
          "data": {
            "text/plain": [
              "\u001b[1m Non-trainable params: \u001b[0m\u001b[38;5;34m0\u001b[0m (0.00 B)\n"
            ],
            "text/html": [
              "<pre style=\"white-space:pre;overflow-x:auto;line-height:normal;font-family:Menlo,'DejaVu Sans Mono',consolas,'Courier New',monospace\"><span style=\"font-weight: bold\"> Non-trainable params: </span><span style=\"color: #00af00; text-decoration-color: #00af00\">0</span> (0.00 B)\n",
              "</pre>\n"
            ]
          },
          "metadata": {}
        }
      ]
    },
    {
      "cell_type": "code",
      "source": [
        "type(model)"
      ],
      "metadata": {
        "colab": {
          "base_uri": "https://localhost:8080/",
          "height": 186
        },
        "id": "Te3Vr_3RjZeG",
        "outputId": "54a18020-5d7b-471d-bef7-86c421854f6f"
      },
      "execution_count": 14,
      "outputs": [
        {
          "output_type": "execute_result",
          "data": {
            "text/plain": [
              "keras.src.models.sequential.Sequential"
            ],
            "text/html": [
              "<div style=\"max-width:800px; border: 1px solid var(--colab-border-color);\"><style>\n",
              "      pre.function-repr-contents {\n",
              "        overflow-x: auto;\n",
              "        padding: 8px 12px;\n",
              "        max-height: 500px;\n",
              "      }\n",
              "\n",
              "      pre.function-repr-contents.function-repr-contents-collapsed {\n",
              "        cursor: pointer;\n",
              "        max-height: 100px;\n",
              "      }\n",
              "    </style>\n",
              "    <pre style=\"white-space: initial; background:\n",
              "         var(--colab-secondary-surface-color); padding: 8px 12px;\n",
              "         border-bottom: 1px solid var(--colab-border-color);\"><b>keras.src.models.sequential.Sequential</b><br/>def error_handler(*args, **kwargs)</pre><pre class=\"function-repr-contents function-repr-contents-collapsed\" style=\"\"><a class=\"filepath\" style=\"display:none\" href=\"#\">/usr/local/lib/python3.10/dist-packages/keras/src/models/sequential.py</a>`Sequential` groups a linear stack of layers into a `Model`.\n",
              "\n",
              "Examples:\n",
              "\n",
              "```python\n",
              "model = keras.Sequential()\n",
              "model.add(keras.Input(shape=(16,)))\n",
              "model.add(keras.layers.Dense(8))\n",
              "\n",
              "# Note that you can also omit the initial `Input`.\n",
              "# In that case the model doesn&#x27;t have any weights until the first call\n",
              "# to a training/evaluation method (since it isn&#x27;t yet built):\n",
              "model = keras.Sequential()\n",
              "model.add(keras.layers.Dense(8))\n",
              "model.add(keras.layers.Dense(4))\n",
              "# model.weights not created yet\n",
              "\n",
              "# Whereas if you specify an `Input`, the model gets built\n",
              "# continuously as you are adding layers:\n",
              "model = keras.Sequential()\n",
              "model.add(keras.Input(shape=(16,)))\n",
              "model.add(keras.layers.Dense(8))\n",
              "len(model.weights)  # Returns &quot;2&quot;\n",
              "\n",
              "# When using the delayed-build pattern (no input shape specified), you can\n",
              "# choose to manually build your model by calling\n",
              "# `build(batch_input_shape)`:\n",
              "model = keras.Sequential()\n",
              "model.add(keras.layers.Dense(8))\n",
              "model.add(keras.layers.Dense(4))\n",
              "model.build((None, 16))\n",
              "len(model.weights)  # Returns &quot;4&quot;\n",
              "\n",
              "# Note that when using the delayed-build pattern (no input shape specified),\n",
              "# the model gets built the first time you call `fit`, `eval`, or `predict`,\n",
              "# or the first time you call the model on some input data.\n",
              "model = keras.Sequential()\n",
              "model.add(keras.layers.Dense(8))\n",
              "model.add(keras.layers.Dense(1))\n",
              "model.compile(optimizer=&#x27;sgd&#x27;, loss=&#x27;mse&#x27;)\n",
              "# This builds the model for the first time:\n",
              "model.fit(x, y, batch_size=32, epochs=10)\n",
              "```</pre>\n",
              "      <script>\n",
              "      if (google.colab.kernel.accessAllowed && google.colab.files && google.colab.files.view) {\n",
              "        for (const element of document.querySelectorAll('.filepath')) {\n",
              "          element.style.display = 'block'\n",
              "          element.onclick = (event) => {\n",
              "            event.preventDefault();\n",
              "            event.stopPropagation();\n",
              "            google.colab.files.view(element.textContent, 18);\n",
              "          };\n",
              "        }\n",
              "      }\n",
              "      for (const element of document.querySelectorAll('.function-repr-contents')) {\n",
              "        element.onclick = (event) => {\n",
              "          event.preventDefault();\n",
              "          event.stopPropagation();\n",
              "          element.classList.toggle('function-repr-contents-collapsed');\n",
              "        };\n",
              "      }\n",
              "      </script>\n",
              "      </div>"
            ]
          },
          "metadata": {},
          "execution_count": 14
        }
      ]
    },
    {
      "cell_type": "code",
      "source": [
        "h = model.fit(\n",
        "  train_ds,\n",
        "  validation_data=valid_ds,\n",
        "  epochs=10,\n",
        "  batch_size= 32\n",
        ")\n"
      ],
      "metadata": {
        "colab": {
          "base_uri": "https://localhost:8080/"
        },
        "id": "5c1R-7POebuV",
        "outputId": "365bc16e-e7ef-4858-9889-7a72d7b24045"
      },
      "execution_count": 15,
      "outputs": [
        {
          "output_type": "stream",
          "name": "stdout",
          "text": [
            "Epoch 1/10\n",
            "\u001b[1m17/17\u001b[0m \u001b[32m━━━━━━━━━━━━━━━━━━━━\u001b[0m\u001b[37m\u001b[0m \u001b[1m14s\u001b[0m 411ms/step - accuracy: 0.3672 - loss: 2.0477 - val_accuracy: 0.5070 - val_loss: 1.0305\n",
            "Epoch 2/10\n",
            "\u001b[1m17/17\u001b[0m \u001b[32m━━━━━━━━━━━━━━━━━━━━\u001b[0m\u001b[37m\u001b[0m \u001b[1m13s\u001b[0m 319ms/step - accuracy: 0.4866 - loss: 1.0048 - val_accuracy: 0.5352 - val_loss: 0.9383\n",
            "Epoch 3/10\n",
            "\u001b[1m17/17\u001b[0m \u001b[32m━━━━━━━━━━━━━━━━━━━━\u001b[0m\u001b[37m\u001b[0m \u001b[1m5s\u001b[0m 301ms/step - accuracy: 0.7047 - loss: 0.7582 - val_accuracy: 0.7465 - val_loss: 0.7343\n",
            "Epoch 4/10\n",
            "\u001b[1m17/17\u001b[0m \u001b[32m━━━━━━━━━━━━━━━━━━━━\u001b[0m\u001b[37m\u001b[0m \u001b[1m11s\u001b[0m 310ms/step - accuracy: 0.8688 - loss: 0.3818 - val_accuracy: 0.7887 - val_loss: 0.6760\n",
            "Epoch 5/10\n",
            "\u001b[1m17/17\u001b[0m \u001b[32m━━━━━━━━━━━━━━━━━━━━\u001b[0m\u001b[37m\u001b[0m \u001b[1m5s\u001b[0m 301ms/step - accuracy: 0.9716 - loss: 0.1526 - val_accuracy: 0.7324 - val_loss: 0.8616\n",
            "Epoch 6/10\n",
            "\u001b[1m17/17\u001b[0m \u001b[32m━━━━━━━━━━━━━━━━━━━━\u001b[0m\u001b[37m\u001b[0m \u001b[1m10s\u001b[0m 300ms/step - accuracy: 0.9808 - loss: 0.0995 - val_accuracy: 0.8169 - val_loss: 0.7840\n",
            "Epoch 7/10\n",
            "\u001b[1m17/17\u001b[0m \u001b[32m━━━━━━━━━━━━━━━━━━━━\u001b[0m\u001b[37m\u001b[0m \u001b[1m10s\u001b[0m 302ms/step - accuracy: 0.9971 - loss: 0.0405 - val_accuracy: 0.8028 - val_loss: 0.7906\n",
            "Epoch 8/10\n",
            "\u001b[1m17/17\u001b[0m \u001b[32m━━━━━━━━━━━━━━━━━━━━\u001b[0m\u001b[37m\u001b[0m \u001b[1m6s\u001b[0m 315ms/step - accuracy: 0.9922 - loss: 0.0271 - val_accuracy: 0.7887 - val_loss: 0.7440\n",
            "Epoch 9/10\n",
            "\u001b[1m17/17\u001b[0m \u001b[32m━━━━━━━━━━━━━━━━━━━━\u001b[0m\u001b[37m\u001b[0m \u001b[1m6s\u001b[0m 306ms/step - accuracy: 0.9997 - loss: 0.0167 - val_accuracy: 0.7887 - val_loss: 0.7892\n",
            "Epoch 10/10\n",
            "\u001b[1m17/17\u001b[0m \u001b[32m━━━━━━━━━━━━━━━━━━━━\u001b[0m\u001b[37m\u001b[0m \u001b[1m10s\u001b[0m 326ms/step - accuracy: 0.9945 - loss: 0.0218 - val_accuracy: 0.8028 - val_loss: 0.8027\n"
          ]
        }
      ]
    },
    {
      "cell_type": "code",
      "source": [
        "h.history"
      ],
      "metadata": {
        "id": "uqDonPDVgrVJ",
        "colab": {
          "base_uri": "https://localhost:8080/"
        },
        "outputId": "46754f3e-3d1d-4067-932c-dd3a3e3dd325"
      },
      "execution_count": 16,
      "outputs": [
        {
          "output_type": "execute_result",
          "data": {
            "text/plain": [
              "{'accuracy': [0.39513108134269714,\n",
              "  0.5327715277671814,\n",
              "  0.7631086111068726,\n",
              "  0.8979400992393494,\n",
              "  0.9737827777862549,\n",
              "  0.9850187301635742,\n",
              "  0.9953183531761169,\n",
              "  0.9962546825408936,\n",
              "  0.9990636706352234,\n",
              "  0.9962546825408936],\n",
              " 'loss': [1.6035081148147583,\n",
              "  0.9642927050590515,\n",
              "  0.6796213984489441,\n",
              "  0.32095521688461304,\n",
              "  0.13367703557014465,\n",
              "  0.07607259601354599,\n",
              "  0.035747867077589035,\n",
              "  0.021878868341445923,\n",
              "  0.015241333283483982,\n",
              "  0.01919715851545334],\n",
              " 'val_accuracy': [0.5070422291755676,\n",
              "  0.5352112650871277,\n",
              "  0.7464788556098938,\n",
              "  0.7887324094772339,\n",
              "  0.7323943376541138,\n",
              "  0.8169013857841492,\n",
              "  0.8028169274330139,\n",
              "  0.7887324094772339,\n",
              "  0.7887324094772339,\n",
              "  0.8028169274330139],\n",
              " 'val_loss': [1.0305315256118774,\n",
              "  0.9383043050765991,\n",
              "  0.7342873215675354,\n",
              "  0.6760008931159973,\n",
              "  0.8615845441818237,\n",
              "  0.7839680910110474,\n",
              "  0.7905567288398743,\n",
              "  0.7439960241317749,\n",
              "  0.7892322540283203,\n",
              "  0.8026935458183289]}"
            ]
          },
          "metadata": {},
          "execution_count": 16
        }
      ]
    },
    {
      "cell_type": "code",
      "source": [
        "model.save('/content/Pattern_model.h5')\n",
        "model.save('/content/Pattern_model.keras')\n",
        "\n"
      ],
      "metadata": {
        "id": "Z4VulOejmEFc",
        "colab": {
          "base_uri": "https://localhost:8080/"
        },
        "outputId": "8f22f8ed-c1fb-44ac-e0dd-55a9b8445847"
      },
      "execution_count": 17,
      "outputs": [
        {
          "output_type": "stream",
          "name": "stderr",
          "text": [
            "WARNING:absl:You are saving your model as an HDF5 file via `model.save()` or `keras.saving.save_model(model)`. This file format is considered legacy. We recommend using instead the native Keras format, e.g. `model.save('my_model.keras')` or `keras.saving.save_model(model, 'my_model.keras')`. \n"
          ]
        }
      ]
    },
    {
      "cell_type": "code",
      "source": [
        "import matplotlib.pyplot as mp\n",
        "\n",
        "mp.plot(h.history['accuracy'], color='blue')\n",
        "mp.plot(h.history['val_accuracy'], color='green')\n",
        "mp.xlabel('epoch')\n",
        "mp.ylabel('accuracy')\n",
        "mp.legend(['train', 'valid'])\n",
        "mp.title('Accuracy vs Epochs')"
      ],
      "metadata": {
        "id": "45PzaxtTmHfd",
        "colab": {
          "base_uri": "https://localhost:8080/",
          "height": 489
        },
        "outputId": "159d3d99-41b7-49e8-91bd-07213f973d97"
      },
      "execution_count": 18,
      "outputs": [
        {
          "output_type": "execute_result",
          "data": {
            "text/plain": [
              "Text(0.5, 1.0, 'Accuracy vs Epochs')"
            ]
          },
          "metadata": {},
          "execution_count": 18
        },
        {
          "output_type": "display_data",
          "data": {
            "text/plain": [
              "<Figure size 640x480 with 1 Axes>"
            ],
            "image/png": "[encoded data removed]"
          },
          "metadata": {}
        }
      ]
    },
    {
      "cell_type": "code",
      "source": [
        "import matplotlib.pyplot as mp\n",
        "\n",
        "mp.plot(h.history['loss'], color='blue')\n",
        "mp.plot(h.history['val_loss'], color='green')\n",
        "mp.xlabel('epoch')\n",
        "mp.ylabel('loss')\n",
        "mp.legend(['train', 'valid'])\n",
        "mp.title('Loss vs Epochs')"
      ],
      "metadata": {
        "id": "ZdL-di4XmVj1",
        "colab": {
          "base_uri": "https://localhost:8080/",
          "height": 489
        },
        "outputId": "2a87a52d-7340-470f-e93d-0e651d3e35de"
      },
      "execution_count": 19,
      "outputs": [
        {
          "output_type": "execute_result",
          "data": {
            "text/plain": [
              "Text(0.5, 1.0, 'Loss vs Epochs')"
            ]
          },
          "metadata": {},
          "execution_count": 19
        },
        {
          "output_type": "display_data",
          "data": {
            "text/plain": [
              "<Figure size 640x480 with 1 Axes>"
            ],
            "image/png": "[encoded data removed]"
          },
          "metadata": {}
        }
      ]
    },
    {
      "cell_type": "markdown",
      "source": [
        "Test the Model"
      ],
      "metadata": {
        "id": "VGUELo3PIzPk"
      }
    },
    {
      "cell_type": "code",
      "source": [
        "loss, accuracy = model.evaluate(test_ds)\n",
        "print(f'Test Accuracy: {accuracy:.2f}')\n",
        "print(f'Test Loss: {loss:.2f}')\n"
      ],
      "metadata": {
        "id": "8S1iEREarBsz",
        "colab": {
          "base_uri": "https://localhost:8080/"
        },
        "outputId": "f4f04ad7-3a46-453d-fad3-a687ed9ef33e"
      },
      "execution_count": 20,
      "outputs": [
        {
          "output_type": "stream",
          "name": "stdout",
          "text": [
            "\u001b[1m1/1\u001b[0m \u001b[32m━━━━━━━━━━━━━━━━━━━━\u001b[0m\u001b[37m\u001b[0m \u001b[1m1s\u001b[0m 730ms/step - accuracy: 0.7347 - loss: 1.0022\n",
            "Test Accuracy: 0.73\n",
            "Test Loss: 1.00\n"
          ]
        }
      ]
    },
    {
      "cell_type": "code",
      "source": [
        "import numpy as np"
      ],
      "metadata": {
        "id": "Fmn190GBsmiG"
      },
      "execution_count": 21,
      "outputs": []
    },
    {
      "cell_type": "code",
      "source": [
        "for images, labels in test_ds:\n",
        "    predictions = model.predict(images)\n",
        "    for i in range(len(images)):\n",
        "        image_path = test_ds.file_paths[i]  # Assuming test_ds contains file paths\n",
        "        index_pred = np.argmax(predictions[i])\n",
        "        class_names = ['Banarasi', 'Ikat', 'Pichwai']\n",
        "        predicted_class = class_names[index_pred]\n",
        "        print(\"Image Path:\", image_path)\n",
        "        print(\"Predicted class:\", predicted_class)\n"
      ],
      "metadata": {
        "id": "mSCNko-PropD",
        "colab": {
          "base_uri": "https://localhost:8080/"
        },
        "outputId": "49ad9ce8-50cc-43d5-f2da-2a03f3ee2bf9"
      },
      "execution_count": 22,
      "outputs": [
        {
          "output_type": "stream",
          "name": "stdout",
          "text": [
            "\u001b[1m2/2\u001b[0m \u001b[32m━━━━━━━━━━━━━━━━━━━━\u001b[0m\u001b[37m\u001b[0m \u001b[1m1s\u001b[0m 246ms/step\n",
            "Image Path: /content/indian-fabrics-3-classes/test/Banarasi/images13_jpg.rf.f2a3b1720972de4bb75b7fcb062269c8.jpg\n",
            "Predicted class: Banarasi\n",
            "Image Path: /content/indian-fabrics-3-classes/test/Banarasi/images33_jpg.rf.b224fd1647ca405f955e199d2b136f2b.jpg\n",
            "Predicted class: Banarasi\n",
            "Image Path: /content/indian-fabrics-3-classes/test/Ikat/images33_jpg.rf.9e6ae9d131373c18cdbe6273089867f6.jpg\n",
            "Predicted class: Banarasi\n",
            "Image Path: /content/indian-fabrics-3-classes/test/Pichwai/pastel-hand-painted-pure-moonga-silk-pichwai-blouse-fabric-1-mtr-714991_jpg.rf.11185ddc8f105f1a385559cb725f5cc7.jpg\n",
            "Predicted class: Pichwai\n",
            "Image Path: /content/indian-fabrics-3-classes/test/Banarasi/red-traditonal-banarasi-silk-brocade-fabric-2018415488-kfz42azv_jpg.rf.db3ab1c289bebaecbcff8767f5644a8c.jpg\n",
            "Predicted class: Pichwai\n",
            "Image Path: /content/indian-fabrics-3-classes/test/Banarasi/FKACJRD10028_2_1200x_jpg.rf.b6a9cf3e00dfa401ad208adce5ffac55.jpg\n",
            "Predicted class: Pichwai\n",
            "Image Path: /content/indian-fabrics-3-classes/test/Pichwai/94235-3-202_jpg.rf.63093f3d3842db637c05c34ee2851af2.jpg\n",
            "Predicted class: Banarasi\n",
            "Image Path: /content/indian-fabrics-3-classes/test/Banarasi/images165_jpg.rf.69c08ad29cd52eddbeb529e48397898d.jpg\n",
            "Predicted class: Banarasi\n",
            "Image Path: /content/indian-fabrics-3-classes/test/Ikat/images2_jpg.rf.02a6b1ab9b6a85556c27609b6cdc69d2.jpg\n",
            "Predicted class: Banarasi\n",
            "Image Path: /content/indian-fabrics-3-classes/test/Banarasi/images137_jpg.rf.0cc7bafc4b52a70afb5ec9e679a132e1.jpg\n",
            "Predicted class: Banarasi\n",
            "Image Path: /content/indian-fabrics-3-classes/test/Ikat/ABB80897-FE29-4D7E-9FB3-438565872A39_1_201_a_1024x10242x_jpg.rf.4d4aa9bb60c2154ad8aad58ee8ef9173.jpg\n",
            "Predicted class: Pichwai\n",
            "Image Path: /content/indian-fabrics-3-classes/test/Pichwai/images24_jpg.rf.82b0457b8451ba98639e5a9bf7dc18a8.jpg\n",
            "Predicted class: Banarasi\n",
            "Image Path: /content/indian-fabrics-3-classes/test/Banarasi/images154_jpg.rf.af53dcd0bb1f8ca3a5f74f31393e3761.jpg\n",
            "Predicted class: Ikat\n",
            "Image Path: /content/indian-fabrics-3-classes/test/Pichwai/DSC07221_Medium_87b37a73-5171-47f6-af65-9602d6206692_jpg.rf.017ebb2ce2785fa45994804834aca36e.jpg\n",
            "Predicted class: Banarasi\n",
            "Image Path: /content/indian-fabrics-3-classes/test/Banarasi/image19_jpeg.rf.03c31350253eb513e405bd998f9fa9bf.jpg\n",
            "Predicted class: Banarasi\n",
            "Image Path: /content/indian-fabrics-3-classes/test/Banarasi/IG_04011_jpg.rf.ab2e485681de61ac37a88ee374947f20.jpg\n",
            "Predicted class: Pichwai\n",
            "Image Path: /content/indian-fabrics-3-classes/test/Banarasi/images102_jpg.rf.f420915e94eb4bc0244f4a49d92b50b0.jpg\n",
            "Predicted class: Banarasi\n",
            "Image Path: /content/indian-fabrics-3-classes/test/Ikat/images16_jpg.rf.72b40d91b758a8038c5198adc15924f5.jpg\n",
            "Predicted class: Pichwai\n",
            "Image Path: /content/indian-fabrics-3-classes/test/Pichwai/image19_jpeg.rf.1e1ae4c2b3e979d84fa61e12951a9559.jpg\n",
            "Predicted class: Pichwai\n",
            "Image Path: /content/indian-fabrics-3-classes/test/Ikat/f46-1_21128d53-1a33-419c-9643-58618f1013c8_jpg.rf.adac2c7ab9c5335cefbc3ba18cf6c4f8.jpg\n",
            "Predicted class: Ikat\n",
            "Image Path: /content/indian-fabrics-3-classes/test/Ikat/images7_jpg.rf.74017171f37deb9d4c9ebf64652599d8.jpg\n",
            "Predicted class: Banarasi\n",
            "Image Path: /content/indian-fabrics-3-classes/test/Banarasi/images42_jpg.rf.ccac6b7048d37352c69f409e7e669821.jpg\n",
            "Predicted class: Banarasi\n",
            "Image Path: /content/indian-fabrics-3-classes/test/Pichwai/22003334-B_jpg.rf.74bce99ac3eebfb5a007f6c6311e0867.jpg\n",
            "Predicted class: Banarasi\n",
            "Image Path: /content/indian-fabrics-3-classes/test/Ikat/images11_jpg.rf.79b597424656a2fabb74a3b5025f2bee.jpg\n",
            "Predicted class: Banarasi\n",
            "Image Path: /content/indian-fabrics-3-classes/test/Banarasi/images117_jpg.rf.032c6291752f728f46eb588166856cd3.jpg\n",
            "Predicted class: Pichwai\n",
            "Image Path: /content/indian-fabrics-3-classes/test/Ikat/-473Wx593H-469483210-multi-MODEL_jpg.rf.896ace1ca420f5f07b9c9df0a8466bf1.jpg\n",
            "Predicted class: Banarasi\n",
            "Image Path: /content/indian-fabrics-3-classes/test/Pichwai/images2_jpg.rf.1e897de0921e30de0d787933ff7fe36e.jpg\n",
            "Predicted class: Banarasi\n",
            "Image Path: /content/indian-fabrics-3-classes/test/Banarasi/IMG_E9590_2796f3d7-9007-4e6c-923c-b46a3c378b4b_jpg.rf.a71486f377401a9e6acdd2966f21c9c2.jpg\n",
            "Predicted class: Banarasi\n",
            "Image Path: /content/indian-fabrics-3-classes/test/Ikat/e42f5dd20f355044d6cda9e30444b36c_jpg.rf.a3306754f8bdfcaa9410fbf3f2e37472.jpg\n",
            "Predicted class: Banarasi\n",
            "Image Path: /content/indian-fabrics-3-classes/test/Pichwai/il_1140xN-3336549267_bg7z_jpg.rf.d7ef573c4417a24f995137729497129b.jpg\n",
            "Predicted class: Pichwai\n",
            "Image Path: /content/indian-fabrics-3-classes/test/Banarasi/image10_jpeg.rf.3ea58bed195a6cf66993888488fc683c.jpg\n",
            "Predicted class: Pichwai\n",
            "Image Path: /content/indian-fabrics-3-classes/test/Banarasi/images63_jpg.rf.34aa6a555a77b707800294929a181729.jpg\n",
            "Predicted class: Banarasi\n",
            "Image Path: /content/indian-fabrics-3-classes/test/Pichwai/27042022040344_png.rf.35b6e139045bd0e9edf0356b2e77f5e1.jpg\n",
            "Predicted class: Ikat\n",
            "Image Path: /content/indian-fabrics-3-classes/test/Banarasi/images34_jpg.rf.4eda2027e8a35ae5b22ca9331f9fd284.jpg\n",
            "Predicted class: Pichwai\n",
            "Image Path: /content/indian-fabrics-3-classes/test/Pichwai/PICHWAI-100005-01_jpg.rf.78aca72d64b640652f3171dd31284757.jpg\n",
            "Predicted class: Banarasi\n",
            "Image Path: /content/indian-fabrics-3-classes/test/Ikat/image_jpeg.rf.e61fe17efe6729c908868bd20dfb7ea0.jpg\n",
            "Predicted class: Pichwai\n",
            "Image Path: /content/indian-fabrics-3-classes/test/Pichwai/48062-DSC_9739-JPG_jpg.rf.f0bbe31c8ade6c5c1991268b59cb2166.jpg\n",
            "Predicted class: Pichwai\n",
            "Image Path: /content/indian-fabrics-3-classes/test/Pichwai/833_6772_1563199443_jpg.rf.87bdfd8b2e4c68273c3e1b7dfacdf72c.jpg\n",
            "Predicted class: Pichwai\n",
            "Image Path: /content/indian-fabrics-3-classes/test/Banarasi/images139_jpg.rf.8e00005559a458c891ae4adacd8941dd.jpg\n",
            "Predicted class: Ikat\n",
            "Image Path: /content/indian-fabrics-3-classes/test/Ikat/img_5849_3_1280x_jpg.rf.7c55911d0a2bc68ab0b339d377cd1f36.jpg\n",
            "Predicted class: Banarasi\n",
            "Image Path: /content/indian-fabrics-3-classes/test/Ikat/whatsapp-image-2023-03-21-at-20-18-28_jpeg.rf.9a3419e13ce921947769c33b0ad3b21e.jpg\n",
            "Predicted class: Banarasi\n",
            "Image Path: /content/indian-fabrics-3-classes/test/Ikat/Pochampally20Violet20Cotton20Ikat20Fabric-1000x1000_jpeg.rf.7718f9f18ee2f7b5213af34d3cbc41db.jpg\n",
            "Predicted class: Ikat\n",
            "Image Path: /content/indian-fabrics-3-classes/test/Banarasi/sf40595-saroj-fabrics-purple-banarasi-fabric_jpg.rf.e25e831e8fc6c846a2ab5e8ef24bd165.jpg\n",
            "Predicted class: Ikat\n",
            "Image Path: /content/indian-fabrics-3-classes/test/Banarasi/images93_jpg.rf.d1c511b77ef99040201d17d5dfda33c0.jpg\n",
            "Predicted class: Banarasi\n",
            "Image Path: /content/indian-fabrics-3-classes/test/Pichwai/71VxsnD2t8L-_AC_UF8941000_QL80__jpg.rf.f8c61cc9601ae711b89798ae9f0ff186.jpg\n",
            "Predicted class: Ikat\n",
            "Image Path: /content/indian-fabrics-3-classes/test/Pichwai/0fd2df9315d8aba5cf9471c838a639aa_jpg.rf.8af9125e06a5d8518102a7b9efdae70a.jpg\n",
            "Predicted class: Ikat\n",
            "Image Path: /content/indian-fabrics-3-classes/test/Ikat/images23_jpg.rf.1b4ca76eef45e3537528107f5b6e6c89.jpg\n",
            "Predicted class: Banarasi\n",
            "Image Path: /content/indian-fabrics-3-classes/test/Banarasi/IG_09957_bf42d59b-be3e-45e3-a9b9-54ac921bcbcc_jpg.rf.af800d9117f90db4f19670bff8d18049.jpg\n",
            "Predicted class: Ikat\n",
            "Image Path: /content/indian-fabrics-3-classes/test/Pichwai/image27_jpeg.rf.4b850f7338f54b53a643b330c2858bbd.jpg\n",
            "Predicted class: Banarasi\n"
          ]
        }
      ]
    },
    {
      "cell_type": "code",
      "source": [
        "from tensorflow.keras.preprocessing import image\n"
      ],
      "metadata": {
        "id": "hlmZaczDuFTK"
      },
      "execution_count": 23,
      "outputs": []
    },
    {
      "cell_type": "code",
      "source": [
        "img = image.load_img('/content/indian-fabrics-3-classes/test/Banarasi/sf40595-saroj-fabrics-purple-banarasi-fabric_jpg.rf.e25e831e8fc6c846a2ab5e8ef24bd165.jpg', target_size=(320, 320))\n",
        "img_array = image.img_to_array(img)\n",
        "img_array = np.expand_dims(img_array, axis=0)\n",
        "print(img_array.shape)\n",
        "img_array /= 255.0\n",
        "a= model.predict(img_array)\n",
        "pred_class_ind = np.argmax(a)\n",
        "print(a)\n",
        "print(class_names[pred_class_ind])\n",
        "\n"
      ],
      "metadata": {
        "id": "hYn1tdtXttSv",
        "colab": {
          "base_uri": "https://localhost:8080/"
        },
        "outputId": "2736ef36-eceb-4dd3-88f5-765cab58635e"
      },
      "execution_count": 25,
      "outputs": [
        {
          "output_type": "stream",
          "name": "stdout",
          "text": [
            "(1, 320, 320, 3)\n",
            "\u001b[1m1/1\u001b[0m \u001b[32m━━━━━━━━━━━━━━━━━━━━\u001b[0m\u001b[37m\u001b[0m \u001b[1m0s\u001b[0m 37ms/step\n",
            "[[0.9235479  0.07065909 0.005793  ]]\n",
            "Banarasi\n"
          ]
        }
      ]
    },
    {
      "cell_type": "code",
      "source": [
        "class_names = test_ds.class_names\n",
        "print(\"Class Names:\", class_names)\n"
      ],
      "metadata": {
        "id": "djrcCwPItlzL",
        "colab": {
          "base_uri": "https://localhost:8080/"
        },
        "outputId": "a59c3c08-418d-4c0c-e680-2bd6f7f20a89"
      },
      "execution_count": 26,
      "outputs": [
        {
          "output_type": "stream",
          "name": "stdout",
          "text": [
            "Class Names: ['Banarasi', 'Ikat', 'Pichwai']\n"
          ]
        }
      ]
    },
    {
      "cell_type": "markdown",
      "source": [
        "Using ResNet\n"
      ],
      "metadata": {
        "id": "MLLSEEB8eo7s"
      }
    },
    {
      "cell_type": "code",
      "source": [
        "import tensorflow as tf\n",
        "from tensorflow.keras.preprocessing import image_dataset_from_directory\n",
        "from tensorflow.keras.applications import ResNet50\n",
        "from tensorflow.keras.layers import Dense, Flatten, Dropout, GlobalAveragePooling2D\n",
        "from tensorflow.keras.models import Sequential\n",
        "from tensorflow.keras.optimizers import Adam\n",
        "from tensorflow.keras.callbacks import EarlyStopping\n",
        "\n",
        "data_dir = '/content/indian-fabrics-3-classes'\n",
        "\n",
        "img_height, img_width = 224, 224\n",
        "batch_size = 32\n",
        "\n",
        "train_ds = image_dataset_from_directory(\n",
        "    directory=f\"{data_dir}/train\",\n",
        "    label_mode='int',\n",
        "    image_size=(img_height, img_width),\n",
        "    batch_size=batch_size\n",
        ")\n",
        "\n",
        "valid_ds = image_dataset_from_directory(\n",
        "    directory=f\"{data_dir}/valid\",\n",
        "    label_mode='int',\n",
        "    image_size=(img_height, img_width),\n",
        "    batch_size=batch_size\n",
        ")\n",
        "\n",
        "test_ds = image_dataset_from_directory(\n",
        "    directory=f\"{data_dir}/test\",\n",
        "    label_mode='int',\n",
        "    image_size=(img_height, img_width),\n",
        "    batch_size=batch_size\n",
        ")\n",
        "\n",
        "normalization_layer = tf.keras.layers.Rescaling(1./255)\n",
        "train_ds = train_ds.map(lambda x, y: (normalization_layer(x), y))\n",
        "valid_ds = valid_ds.map(lambda x, y: (normalization_layer(x), y))\n",
        "test_ds = test_ds.map(lambda x, y: (normalization_layer(x), y))\n",
        "\n",
        "base_model = ResNet50(include_top=False, input_shape=(img_height, img_width, 3), weights='imagenet')\n",
        "\n",
        "base_model.trainable = False\n",
        "\n",
        "\n",
        "model.compile(\n",
        "    optimizer=tf.keras.optimizers.Adam(learning_rate=1e-5),\n",
        "    loss='sparse_categorical_crossentropy',\n",
        "    metrics=['accuracy']\n",
        ")\n",
        "\n",
        "model = Sequential([\n",
        "    base_model,\n",
        "    GlobalAveragePooling2D(),\n",
        "    Dense(128, activation='relu'),\n",
        "    Dropout(0.5),\n",
        "    Dense(64, activation='relu'),\n",
        "    Dropout(0.5),\n",
        "    Dense(3, activation='softmax')\n",
        "])\n",
        "\n",
        "model.compile(\n",
        "    optimizer=Adam(learning_rate=0.003),\n",
        "    loss=tf.keras.losses.SparseCategoricalCrossentropy(),\n",
        "    metrics=['accuracy']\n",
        ")\n",
        "\n",
        "early_stopping = EarlyStopping(monitor='val_loss', patience=3, restore_best_weights=True)\n",
        "\n",
        "history = model.fit(\n",
        "    train_ds,\n",
        "    validation_data=valid_ds,\n",
        "    epochs=15,\n",
        "    callbacks=[early_stopping]\n",
        ")\n",
        "\n",
        "loss, accuracy = model.evaluate(test_ds)\n",
        "print(f\"Test Accuracy: {accuracy:.2f}\")\n",
        "\n",
        "model.save('/content/fabric_classifier_resnet50.h5')\n"
      ],
      "metadata": {
        "colab": {
          "base_uri": "https://localhost:8080/"
        },
        "id": "v5cmkcsWerVI",
        "outputId": "108a315f-46cf-4c24-e769-57b64910d355"
      },
      "execution_count": 27,
      "outputs": [
        {
          "output_type": "stream",
          "name": "stdout",
          "text": [
            "Found 1068 files belonging to 3 classes.\n",
            "Found 71 files belonging to 3 classes.\n",
            "Found 49 files belonging to 3 classes.\n",
            "Downloading data from https://storage.googleapis.com/tensorflow/keras-applications/resnet/resnet50_weights_tf_dim_ordering_tf_kernels_notop.h5\n",
            "\u001b[1m94765736/94765736\u001b[0m \u001b[32m━━━━━━━━━━━━━━━━━━━━\u001b[0m\u001b[37m\u001b[0m \u001b[1m5s\u001b[0m 0us/step\n",
            "Epoch 1/15\n",
            "\u001b[1m34/34\u001b[0m \u001b[32m━━━━━━━━━━━━━━━━━━━━\u001b[0m\u001b[37m\u001b[0m \u001b[1m34s\u001b[0m 634ms/step - accuracy: 0.3728 - loss: 1.2622 - val_accuracy: 0.4930 - val_loss: 1.0588\n",
            "Epoch 2/15\n",
            "\u001b[1m34/34\u001b[0m \u001b[32m━━━━━━━━━━━━━━━━━━━━\u001b[0m\u001b[37m\u001b[0m \u001b[1m17s\u001b[0m 125ms/step - accuracy: 0.3941 - loss: 1.0728 - val_accuracy: 0.4930 - val_loss: 1.0393\n",
            "Epoch 3/15\n",
            "\u001b[1m34/34\u001b[0m \u001b[32m━━━━━━━━━━━━━━━━━━━━\u001b[0m\u001b[37m\u001b[0m \u001b[1m4s\u001b[0m 104ms/step - accuracy: 0.4229 - loss: 1.0594 - val_accuracy: 0.5070 - val_loss: 1.0381\n",
            "Epoch 4/15\n",
            "\u001b[1m34/34\u001b[0m \u001b[32m━━━━━━━━━━━━━━━━━━━━\u001b[0m\u001b[37m\u001b[0m \u001b[1m4s\u001b[0m 102ms/step - accuracy: 0.4335 - loss: 1.0398 - val_accuracy: 0.5070 - val_loss: 1.0494\n",
            "Epoch 5/15\n",
            "\u001b[1m34/34\u001b[0m \u001b[32m━━━━━━━━━━━━━━━━━━━━\u001b[0m\u001b[37m\u001b[0m \u001b[1m5s\u001b[0m 135ms/step - accuracy: 0.4189 - loss: 1.0411 - val_accuracy: 0.5070 - val_loss: 1.0302\n",
            "Epoch 6/15\n",
            "\u001b[1m34/34\u001b[0m \u001b[32m━━━━━━━━━━━━━━━━━━━━\u001b[0m\u001b[37m\u001b[0m \u001b[1m4s\u001b[0m 106ms/step - accuracy: 0.4396 - loss: 1.0222 - val_accuracy: 0.5070 - val_loss: 1.0239\n",
            "Epoch 7/15\n",
            "\u001b[1m34/34\u001b[0m \u001b[32m━━━━━━━━━━━━━━━━━━━━\u001b[0m\u001b[37m\u001b[0m \u001b[1m4s\u001b[0m 102ms/step - accuracy: 0.4283 - loss: 1.0378 - val_accuracy: 0.5070 - val_loss: 1.0240\n",
            "Epoch 8/15\n",
            "\u001b[1m34/34\u001b[0m \u001b[32m━━━━━━━━━━━━━━━━━━━━\u001b[0m\u001b[37m\u001b[0m \u001b[1m5s\u001b[0m 138ms/step - accuracy: 0.4109 - loss: 1.0436 - val_accuracy: 0.5070 - val_loss: 1.0407\n",
            "Epoch 9/15\n",
            "\u001b[1m34/34\u001b[0m \u001b[32m━━━━━━━━━━━━━━━━━━━━\u001b[0m\u001b[37m\u001b[0m \u001b[1m4s\u001b[0m 101ms/step - accuracy: 0.4229 - loss: 1.0449 - val_accuracy: 0.5070 - val_loss: 1.0499\n",
            "\u001b[1m2/2\u001b[0m \u001b[32m━━━━━━━━━━━━━━━━━━━━\u001b[0m\u001b[37m\u001b[0m \u001b[1m3s\u001b[0m 3s/step - accuracy: 0.4315 - loss: 1.0256\n"
          ]
        },
        {
          "output_type": "stream",
          "name": "stderr",
          "text": [
            "WARNING:absl:You are saving your model as an HDF5 file via `model.save()` or `keras.saving.save_model(model)`. This file format is considered legacy. We recommend using instead the native Keras format, e.g. `model.save('my_model.keras')` or `keras.saving.save_model(model, 'my_model.keras')`. \n"
          ]
        },
        {
          "output_type": "stream",
          "name": "stdout",
          "text": [
            "Test Accuracy: 0.43\n"
          ]
        }
      ]
    },
    {
      "cell_type": "code",
      "source": [
        "import tensorflow as tf\n",
        "from tensorflow.keras.preprocessing import image_dataset_from_directory\n",
        "from tensorflow.keras.applications import EfficientNetV2B0\n",
        "from tensorflow.keras.layers import Dense, Dropout, GlobalAveragePooling2D\n",
        "from tensorflow.keras.models import Sequential\n",
        "from tensorflow.keras.optimizers import Adam\n",
        "from tensorflow.keras.callbacks import EarlyStopping\n",
        "\n",
        "data_dir = '/content/indian-fabrics-3-classes'\n",
        "\n",
        "img_height, img_width = 320, 320\n",
        "batch_size = 32\n",
        "\n",
        "train_ds = image_dataset_from_directory(\n",
        "    directory=f\"{data_dir}/train\",\n",
        "    label_mode='int',\n",
        "    image_size=(img_height, img_width),\n",
        "    batch_size=batch_size\n",
        ")\n",
        "\n",
        "valid_ds = image_dataset_from_directory(\n",
        "    directory=f\"{data_dir}/valid\",\n",
        "    label_mode='int',\n",
        "    image_size=(img_height, img_width),\n",
        "    batch_size=batch_size\n",
        ")\n",
        "\n",
        "test_ds = image_dataset_from_directory(\n",
        "    directory=f\"{data_dir}/test\",\n",
        "    label_mode='int',\n",
        "    image_size=(img_height, img_width),\n",
        "    batch_size=batch_size\n",
        ")\n",
        "\n",
        "normalization_layer = tf.keras.layers.Rescaling(1./255)\n",
        "train_ds = train_ds.map(lambda x, y: (normalization_layer(x), y))\n",
        "valid_ds = valid_ds.map(lambda x, y: (normalization_layer(x), y))\n",
        "test_ds = test_ds.map(lambda x, y: (normalization_layer(x), y))\n",
        "\n",
        "base_model = EfficientNetV2B0(include_top=False, input_shape=(img_height, img_width, 3), weights='imagenet')\n",
        "base_model.trainable = False\n",
        "\n",
        "model = Sequential([\n",
        "    base_model,\n",
        "    GlobalAveragePooling2D(),\n",
        "    Dense(128, activation='relu'),\n",
        "    Dropout(0.5),\n",
        "    Dense(64, activation='relu'),\n",
        "    Dropout(0.5),\n",
        "    Dense(3, activation='softmax')\n",
        "])\n",
        "\n",
        "model.compile(\n",
        "    optimizer=Adam(learning_rate=0.003),\n",
        "    loss=tf.keras.losses.SparseCategoricalCrossentropy(),\n",
        "    metrics=['accuracy']\n",
        ")\n",
        "\n",
        "early_stopping = EarlyStopping(monitor='val_loss', patience=3, restore_best_weights=True)\n",
        "\n",
        "history = model.fit(\n",
        "    train_ds,\n",
        "    validation_data=valid_ds,\n",
        "    epochs=15,\n",
        "    callbacks=[early_stopping]\n",
        ")\n",
        "\n",
        "loss, accuracy = model.evaluate(test_ds)\n",
        "print(f\"Test Accuracy: {accuracy:.2f}\")\n",
        "\n",
        "model.save('/content/fabric_classifier_efficientnet.h5')\n"
      ],
      "metadata": {
        "id": "KVWj_sO-fqEd",
        "colab": {
          "base_uri": "https://localhost:8080/"
        },
        "outputId": "bf42f2a8-d1a2-46ae-e966-5da32d51f041"
      },
      "execution_count": 28,
      "outputs": [
        {
          "output_type": "stream",
          "name": "stdout",
          "text": [
            "Found 1068 files belonging to 3 classes.\n",
            "Found 71 files belonging to 3 classes.\n",
            "Found 49 files belonging to 3 classes.\n",
            "Downloading data from https://storage.googleapis.com/tensorflow/keras-applications/efficientnet_v2/efficientnetv2-b0_notop.h5\n",
            "\u001b[1m24274472/24274472\u001b[0m \u001b[32m━━━━━━━━━━━━━━━━━━━━\u001b[0m\u001b[37m\u001b[0m \u001b[1m2s\u001b[0m 0us/step\n",
            "Epoch 1/15\n",
            "\u001b[1m34/34\u001b[0m \u001b[32m━━━━━━━━━━━━━━━━━━━━\u001b[0m\u001b[37m\u001b[0m \u001b[1m60s\u001b[0m 927ms/step - accuracy: 0.3378 - loss: 1.2245 - val_accuracy: 0.5070 - val_loss: 1.0904\n",
            "Epoch 2/15\n",
            "\u001b[1m34/34\u001b[0m \u001b[32m━━━━━━━━━━━━━━━━━━━━\u001b[0m\u001b[37m\u001b[0m \u001b[1m37s\u001b[0m 122ms/step - accuracy: 0.3330 - loss: 1.1192 - val_accuracy: 0.5070 - val_loss: 1.0745\n",
            "Epoch 3/15\n",
            "\u001b[1m34/34\u001b[0m \u001b[32m━━━━━━━━━━━━━━━━━━━━\u001b[0m\u001b[37m\u001b[0m \u001b[1m5s\u001b[0m 134ms/step - accuracy: 0.3896 - loss: 1.0933 - val_accuracy: 0.5070 - val_loss: 1.0700\n",
            "Epoch 4/15\n",
            "\u001b[1m34/34\u001b[0m \u001b[32m━━━━━━━━━━━━━━━━━━━━\u001b[0m\u001b[37m\u001b[0m \u001b[1m4s\u001b[0m 111ms/step - accuracy: 0.4212 - loss: 1.0841 - val_accuracy: 0.5070 - val_loss: 1.0694\n",
            "Epoch 5/15\n",
            "\u001b[1m34/34\u001b[0m \u001b[32m━━━━━━━━━━━━━━━━━━━━\u001b[0m\u001b[37m\u001b[0m \u001b[1m6s\u001b[0m 139ms/step - accuracy: 0.4342 - loss: 1.0797 - val_accuracy: 0.5070 - val_loss: 1.0645\n",
            "Epoch 6/15\n",
            "\u001b[1m34/34\u001b[0m \u001b[32m━━━━━━━━━━━━━━━━━━━━\u001b[0m\u001b[37m\u001b[0m \u001b[1m4s\u001b[0m 111ms/step - accuracy: 0.4232 - loss: 1.0828 - val_accuracy: 0.5070 - val_loss: 1.0622\n",
            "Epoch 7/15\n",
            "\u001b[1m34/34\u001b[0m \u001b[32m━━━━━━━━━━━━━━━━━━━━\u001b[0m\u001b[37m\u001b[0m \u001b[1m4s\u001b[0m 107ms/step - accuracy: 0.4158 - loss: 1.0838 - val_accuracy: 0.5070 - val_loss: 1.0629\n",
            "Epoch 8/15\n",
            "\u001b[1m34/34\u001b[0m \u001b[32m━━━━━━━━━━━━━━━━━━━━\u001b[0m\u001b[37m\u001b[0m \u001b[1m5s\u001b[0m 136ms/step - accuracy: 0.4384 - loss: 1.0766 - val_accuracy: 0.5070 - val_loss: 1.0610\n",
            "Epoch 9/15\n",
            "\u001b[1m34/34\u001b[0m \u001b[32m━━━━━━━━━━━━━━━━━━━━\u001b[0m\u001b[37m\u001b[0m \u001b[1m4s\u001b[0m 110ms/step - accuracy: 0.4146 - loss: 1.0836 - val_accuracy: 0.5070 - val_loss: 1.0600\n",
            "Epoch 10/15\n",
            "\u001b[1m34/34\u001b[0m \u001b[32m━━━━━━━━━━━━━━━━━━━━\u001b[0m\u001b[37m\u001b[0m \u001b[1m4s\u001b[0m 109ms/step - accuracy: 0.4233 - loss: 1.0802 - val_accuracy: 0.5070 - val_loss: 1.0606\n",
            "Epoch 11/15\n",
            "\u001b[1m34/34\u001b[0m \u001b[32m━━━━━━━━━━━━━━━━━━━━\u001b[0m\u001b[37m\u001b[0m \u001b[1m6s\u001b[0m 146ms/step - accuracy: 0.4238 - loss: 1.0790 - val_accuracy: 0.5070 - val_loss: 1.0599\n",
            "Epoch 12/15\n",
            "\u001b[1m34/34\u001b[0m \u001b[32m━━━━━━━━━━━━━━━━━━━━\u001b[0m\u001b[37m\u001b[0m \u001b[1m4s\u001b[0m 105ms/step - accuracy: 0.4142 - loss: 1.0836 - val_accuracy: 0.5070 - val_loss: 1.0610\n",
            "Epoch 13/15\n",
            "\u001b[1m34/34\u001b[0m \u001b[32m━━━━━━━━━━━━━━━━━━━━\u001b[0m\u001b[37m\u001b[0m \u001b[1m4s\u001b[0m 109ms/step - accuracy: 0.4229 - loss: 1.0812 - val_accuracy: 0.5070 - val_loss: 1.0595\n",
            "Epoch 14/15\n",
            "\u001b[1m34/34\u001b[0m \u001b[32m━━━━━━━━━━━━━━━━━━━━\u001b[0m\u001b[37m\u001b[0m \u001b[1m7s\u001b[0m 151ms/step - accuracy: 0.4274 - loss: 1.0792 - val_accuracy: 0.5070 - val_loss: 1.0583\n",
            "Epoch 15/15\n",
            "\u001b[1m34/34\u001b[0m \u001b[32m━━━━━━━━━━━━━━━━━━━━\u001b[0m\u001b[37m\u001b[0m \u001b[1m9s\u001b[0m 106ms/step - accuracy: 0.4307 - loss: 1.0783 - val_accuracy: 0.5070 - val_loss: 1.0606\n",
            "\u001b[1m2/2\u001b[0m \u001b[32m━━━━━━━━━━━━━━━━━━━━\u001b[0m\u001b[37m\u001b[0m \u001b[1m7s\u001b[0m 6s/step - accuracy: 0.3971 - loss: 1.0924\n"
          ]
        },
        {
          "output_type": "stream",
          "name": "stderr",
          "text": [
            "WARNING:absl:You are saving your model as an HDF5 file via `model.save()` or `keras.saving.save_model(model)`. This file format is considered legacy. We recommend using instead the native Keras format, e.g. `model.save('my_model.keras')` or `keras.saving.save_model(model, 'my_model.keras')`. \n"
          ]
        },
        {
          "output_type": "stream",
          "name": "stdout",
          "text": [
            "Test Accuracy: 0.41\n"
          ]
        }
      ]
    },
    {
      "cell_type": "code",
      "source": [],
      "metadata": {
        "id": "lJyVGN1-IUV_"
      },
      "execution_count": null,
      "outputs": []
    }
  ]
}