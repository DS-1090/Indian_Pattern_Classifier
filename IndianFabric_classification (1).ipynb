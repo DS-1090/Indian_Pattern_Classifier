{
  "nbformat": 4,
  "nbformat_minor": 0,
  "metadata": {
    "colab": {
      "provenance": [],
      "gpuType": "T4"
    },
    "kernelspec": {
      "name": "python3",
      "display_name": "Python 3"
    },
    "language_info": {
      "name": "python"
    },
    "accelerator": "GPU"
  },
  "cells": [
    {
      "cell_type": "markdown",
      "source": [
        "Downloading Dataset"
      ],
      "metadata": {
        "id": "j4XtgGILIXSl"
      }
    },
    {
      "cell_type": "code",
      "execution_count": 1,
      "metadata": {
        "colab": {
          "base_uri": "https://localhost:8080/"
        },
        "id": "Ji2RxHO9Ya_6",
        "outputId": "561da3e5-910c-4880-f80e-9c9f06eb47af"
      },
      "outputs": [
        {
          "output_type": "stream",
          "name": "stdout",
          "text": [
            "Requirement already satisfied: opendatasets in /usr/local/lib/python3.10/dist-packages (0.1.22)\n",
            "Requirement already satisfied: tqdm in /usr/local/lib/python3.10/dist-packages (from opendatasets) (4.66.4)\n",
            "Requirement already satisfied: kaggle in /usr/local/lib/python3.10/dist-packages (from opendatasets) (1.6.14)\n",
            "Requirement already satisfied: click in /usr/local/lib/python3.10/dist-packages (from opendatasets) (8.1.7)\n",
            "Requirement already satisfied: six>=1.10 in /usr/local/lib/python3.10/dist-packages (from kaggle->opendatasets) (1.16.0)\n",
            "Requirement already satisfied: certifi>=2023.7.22 in /usr/local/lib/python3.10/dist-packages (from kaggle->opendatasets) (2024.2.2)\n",
            "Requirement already satisfied: python-dateutil in /usr/local/lib/python3.10/dist-packages (from kaggle->opendatasets) (2.8.2)\n",
            "Requirement already satisfied: requests in /usr/local/lib/python3.10/dist-packages (from kaggle->opendatasets) (2.31.0)\n",
            "Requirement already satisfied: python-slugify in /usr/local/lib/python3.10/dist-packages (from kaggle->opendatasets) (8.0.4)\n",
            "Requirement already satisfied: urllib3 in /usr/local/lib/python3.10/dist-packages (from kaggle->opendatasets) (2.0.7)\n",
            "Requirement already satisfied: bleach in /usr/local/lib/python3.10/dist-packages (from kaggle->opendatasets) (6.1.0)\n",
            "Requirement already satisfied: webencodings in /usr/local/lib/python3.10/dist-packages (from bleach->kaggle->opendatasets) (0.5.1)\n",
            "Requirement already satisfied: text-unidecode>=1.3 in /usr/local/lib/python3.10/dist-packages (from python-slugify->kaggle->opendatasets) (1.3)\n",
            "Requirement already satisfied: charset-normalizer<4,>=2 in /usr/local/lib/python3.10/dist-packages (from requests->kaggle->opendatasets) (3.3.2)\n",
            "Requirement already satisfied: idna<4,>=2.5 in /usr/local/lib/python3.10/dist-packages (from requests->kaggle->opendatasets) (3.7)\n"
          ]
        }
      ],
      "source": [
        "pip install opendatasets\n"
      ]
    },
    {
      "cell_type": "code",
      "source": [
        "import opendatasets as od\n",
        "od.download(\"https://www.kaggle.com/datasets/div456/indian-fabrics-3-classes\")\n"
      ],
      "metadata": {
        "colab": {
          "base_uri": "https://localhost:8080/"
        },
        "id": "NRTZoLXGZAZI",
        "outputId": "e29b0de3-672f-43b2-f83f-d6556aa30ee3"
      },
      "execution_count": 2,
      "outputs": [
        {
          "output_type": "stream",
          "name": "stdout",
          "text": [
            "Skipping, found downloaded files in \"./indian-fabrics-3-classes\" (use force=True to force download)\n"
          ]
        }
      ]
    },
    {
      "cell_type": "markdown",
      "source": [
        "Importing Libraries\n"
      ],
      "metadata": {
        "id": "MlfVKex6IbyX"
      }
    },
    {
      "cell_type": "code",
      "source": [
        "from tensorflow import keras\n",
        "import tensorflow as tf\n",
        "from tensorflow.keras import layers\n",
        "from tensorflow.keras.models import Sequential\n",
        "from tensorflow.keras.layers import Conv2D, MaxPooling2D, Flatten, Dense, Dropout\n",
        "# from tensorflow.keras.preprocessing.image import ImageDataGenerator\n",
        "from tensorflow.keras.layers import BatchNormalization\n"
      ],
      "metadata": {
        "id": "4jRoZbwfZLuO"
      },
      "execution_count": 3,
      "outputs": []
    },
    {
      "cell_type": "markdown",
      "source": [
        "Creating Train, Valid, Test Datasets\n"
      ],
      "metadata": {
        "id": "laWBr_tfIhmT"
      }
    },
    {
      "cell_type": "code",
      "source": [
        "import pathlib\n",
        "\n",
        "data_dir = pathlib.Path('/content/indian-fabrics-3-classes/train')"
      ],
      "metadata": {
        "id": "QLEpwYCse4Kx"
      },
      "execution_count": 4,
      "outputs": []
    },
    {
      "cell_type": "code",
      "source": [
        "train_ds = tf.keras.utils.image_dataset_from_directory(\n",
        "  data_dir,\n",
        "  seed=123,\n",
        "  image_size=(320, 320),\n",
        "  batch_size=64,\n",
        "  color_mode='rgb',\n",
        "  labels='inferred',\n",
        "  label_mode='int'\n",
        "  )\n"
      ],
      "metadata": {
        "colab": {
          "base_uri": "https://localhost:8080/"
        },
        "id": "H05XlfL0eqgl",
        "outputId": "db48c177-4981-43df-aa13-e48c6c6bf2d6"
      },
      "execution_count": 5,
      "outputs": [
        {
          "output_type": "stream",
          "name": "stdout",
          "text": [
            "Found 1068 files belonging to 3 classes.\n"
          ]
        }
      ]
    },
    {
      "cell_type": "code",
      "source": [
        "data_dir = pathlib.Path('/content/indian-fabrics-3-classes/train')\n",
        "valid_ds = tf.keras.utils.image_dataset_from_directory(\n",
        "  data_dir,\n",
        "  seed=123,\n",
        "  image_size=(320, 320),\n",
        "  batch_size=64,\n",
        "  color_mode='rgb',\n",
        "  labels='inferred',\n",
        "  label_mode='int'\n",
        "  )\n"
      ],
      "metadata": {
        "colab": {
          "base_uri": "https://localhost:8080/"
        },
        "id": "qaWXhlPif6p9",
        "outputId": "07219aac-de99-48c5-ec9d-6a70a8f17764"
      },
      "execution_count": 6,
      "outputs": [
        {
          "output_type": "stream",
          "name": "stdout",
          "text": [
            "Found 1068 files belonging to 3 classes.\n"
          ]
        }
      ]
    },
    {
      "cell_type": "code",
      "source": [
        "data_dir = pathlib.Path('/content/indian-fabrics-3-classes/test')\n",
        "test_ds = tf.keras.utils.image_dataset_from_directory(\n",
        "  data_dir,\n",
        "  seed=123,\n",
        "  image_size=(320, 320),\n",
        "  batch_size=64,\n",
        "  color_mode='rgb',\n",
        "  labels='inferred',\n",
        "  label_mode='int'\n",
        "  )\n"
      ],
      "metadata": {
        "colab": {
          "base_uri": "https://localhost:8080/"
        },
        "id": "Ha0FMA_pgE4e",
        "outputId": "8fa72eba-0672-4481-b59f-011519134e00"
      },
      "execution_count": 7,
      "outputs": [
        {
          "output_type": "stream",
          "name": "stdout",
          "text": [
            "Found 49 files belonging to 3 classes.\n"
          ]
        }
      ]
    },
    {
      "cell_type": "code",
      "source": [
        "batch_size = 64\n",
        "img_height = 320\n",
        "img_width = 320\n"
      ],
      "metadata": {
        "id": "zY_EebMJb1Hx"
      },
      "execution_count": 8,
      "outputs": []
    },
    {
      "cell_type": "markdown",
      "source": [
        "Create & Train the model"
      ],
      "metadata": {
        "id": "RMKbw-qpIsQO"
      }
    },
    {
      "cell_type": "code",
      "source": [
        "model = Sequential()"
      ],
      "metadata": {
        "id": "htSliKfubRjy"
      },
      "execution_count": 30,
      "outputs": []
    },
    {
      "cell_type": "code",
      "source": [
        "model.add(layers.Rescaling(1./255, input_shape=(img_height, img_width, 3)))"
      ],
      "metadata": {
        "id": "vfYUZ5Iwbrv8"
      },
      "execution_count": 31,
      "outputs": []
    },
    {
      "cell_type": "code",
      "source": [
        "# model.add(layers.RandomFlip(\"horizontal\",input_shape=(img_height,img_width,3)))\n",
        "# model.add(layers.RandomRotation(0.1, fill_mode='nearest'))\n",
        "# model.add(layers.RandomZoom(0.1))\n",
        "# model.add(layers.RandomContrast(0.1))\n",
        "# model.add(layers.RandomBrightness(0.04))"
      ],
      "metadata": {
        "id": "Po7pvWiBoRlk"
      },
      "execution_count": 32,
      "outputs": []
    },
    {
      "cell_type": "code",
      "source": [
        "\n",
        "# model.add(Conv2D(64, 3, padding='same', activation='relu'))\n",
        "# model.add(BatchNormalization())\n",
        "# model.add(MaxPooling2D())\n",
        "\n",
        "model.add(Conv2D(32, 3, padding='same', activation='relu'))\n",
        "model.add(MaxPooling2D())\n",
        "\n",
        "model.add(Conv2D(16, 3, padding='same', activation='relu'))\n",
        "model.add(MaxPooling2D())\n",
        "\n",
        "# model.add(Conv2D(128, 3, padding='same', activation='relu'))\n",
        "# model.add(BatchNormalization())\n",
        "# model.add(MaxPooling2D())\n",
        "\n",
        "model.add(Flatten())\n",
        "# model.add(Dense(256, activation='relu'))\n",
        "# model.add(Dropout(0.3))\n",
        "model.add(Dense(64, activation='relu'))\n",
        "model.add(Dropout(0.1))\n",
        "model.add(Dense(32, activation='relu'))\n",
        "model.add(Dense(3, activation='softmax'))\n"
      ],
      "metadata": {
        "id": "GXgm74YmcV3V"
      },
      "execution_count": 33,
      "outputs": []
    },
    {
      "cell_type": "code",
      "source": [
        "model.compile(optimizer='adam',\n",
        "              loss=tf.keras.losses.SparseCategoricalCrossentropy(),\n",
        "              metrics=['accuracy'],\n",
        "              run_eagerly=True\n",
        "               )\n"
      ],
      "metadata": {
        "id": "6JcTtQEVdzS_"
      },
      "execution_count": 34,
      "outputs": []
    },
    {
      "cell_type": "code",
      "source": [
        "model.summary()\n"
      ],
      "metadata": {
        "colab": {
          "base_uri": "https://localhost:8080/"
        },
        "id": "ZvSESoY1eZQD",
        "outputId": "79c60116-af16-4bfc-90c6-881a09f0b954"
      },
      "execution_count": 35,
      "outputs": [
        {
          "output_type": "stream",
          "name": "stdout",
          "text": [
            "Model: \"sequential_2\"\n",
            "_________________________________________________________________\n",
            " Layer (type)                Output Shape              Param #   \n",
            "=================================================================\n",
            " rescaling_1 (Rescaling)     (None, 320, 320, 3)       0         \n",
            "                                                                 \n",
            " conv2d_2 (Conv2D)           (None, 320, 320, 32)      896       \n",
            "                                                                 \n",
            " max_pooling2d_2 (MaxPoolin  (None, 160, 160, 32)      0         \n",
            " g2D)                                                            \n",
            "                                                                 \n",
            " conv2d_3 (Conv2D)           (None, 160, 160, 16)      4624      \n",
            "                                                                 \n",
            " max_pooling2d_3 (MaxPoolin  (None, 80, 80, 16)        0         \n",
            " g2D)                                                            \n",
            "                                                                 \n",
            " flatten_1 (Flatten)         (None, 102400)            0         \n",
            "                                                                 \n",
            " dense_3 (Dense)             (None, 64)                6553664   \n",
            "                                                                 \n",
            " dropout_1 (Dropout)         (None, 64)                0         \n",
            "                                                                 \n",
            " dense_4 (Dense)             (None, 32)                2080      \n",
            "                                                                 \n",
            " dense_5 (Dense)             (None, 3)                 99        \n",
            "                                                                 \n",
            "=================================================================\n",
            "Total params: 6561363 (25.03 MB)\n",
            "Trainable params: 6561363 (25.03 MB)\n",
            "Non-trainable params: 0 (0.00 Byte)\n",
            "_________________________________________________________________\n"
          ]
        }
      ]
    },
    {
      "cell_type": "code",
      "source": [
        "type(model)"
      ],
      "metadata": {
        "colab": {
          "base_uri": "https://localhost:8080/",
          "height": 186
        },
        "id": "Te3Vr_3RjZeG",
        "outputId": "c0d49534-c542-4ae9-d7dc-edda1d402f75"
      },
      "execution_count": 36,
      "outputs": [
        {
          "output_type": "execute_result",
          "data": {
            "text/plain": [
              "keras.src.engine.sequential.Sequential"
            ],
            "text/html": [
              "<div style=\"max-width:800px; border: 1px solid var(--colab-border-color);\"><style>\n",
              "      pre.function-repr-contents {\n",
              "        overflow-x: auto;\n",
              "        padding: 8px 12px;\n",
              "        max-height: 500px;\n",
              "      }\n",
              "\n",
              "      pre.function-repr-contents.function-repr-contents-collapsed {\n",
              "        cursor: pointer;\n",
              "        max-height: 100px;\n",
              "      }\n",
              "    </style>\n",
              "    <pre style=\"white-space: initial; background:\n",
              "         var(--colab-secondary-surface-color); padding: 8px 12px;\n",
              "         border-bottom: 1px solid var(--colab-border-color);\"><b>keras.src.engine.sequential.Sequential</b><br/>def error_handler(*args, **kwargs)</pre><pre class=\"function-repr-contents function-repr-contents-collapsed\" style=\"\"><a class=\"filepath\" style=\"display:none\" href=\"#\">/usr/local/lib/python3.10/dist-packages/keras/src/engine/sequential.py</a>`Sequential` groups a linear stack of layers into a `tf.keras.Model`.\n",
              "\n",
              "`Sequential` provides training and inference features on this model.\n",
              "\n",
              "Examples:\n",
              "\n",
              "```python\n",
              "model = tf.keras.Sequential()\n",
              "model.add(tf.keras.Input(shape=(16,)))\n",
              "model.add(tf.keras.layers.Dense(8))\n",
              "\n",
              "# Note that you can also omit the initial `Input`.\n",
              "# In that case the model doesn&#x27;t have any weights until the first call\n",
              "# to a training/evaluation method (since it isn&#x27;t yet built):\n",
              "model = tf.keras.Sequential()\n",
              "model.add(tf.keras.layers.Dense(8))\n",
              "model.add(tf.keras.layers.Dense(4))\n",
              "# model.weights not created yet\n",
              "\n",
              "# Whereas if you specify an `Input`, the model gets built\n",
              "# continuously as you are adding layers:\n",
              "model = tf.keras.Sequential()\n",
              "model.add(tf.keras.Input(shape=(16,)))\n",
              "model.add(tf.keras.layers.Dense(4))\n",
              "len(model.weights)\n",
              "# Returns &quot;2&quot;\n",
              "\n",
              "# When using the delayed-build pattern (no input shape specified), you can\n",
              "# choose to manually build your model by calling\n",
              "# `build(batch_input_shape)`:\n",
              "model = tf.keras.Sequential()\n",
              "model.add(tf.keras.layers.Dense(8))\n",
              "model.add(tf.keras.layers.Dense(4))\n",
              "model.build((None, 16))\n",
              "len(model.weights)\n",
              "# Returns &quot;4&quot;\n",
              "\n",
              "# Note that when using the delayed-build pattern (no input shape specified),\n",
              "# the model gets built the first time you call `fit`, `eval`, or `predict`,\n",
              "# or the first time you call the model on some input data.\n",
              "model = tf.keras.Sequential()\n",
              "model.add(tf.keras.layers.Dense(8))\n",
              "model.add(tf.keras.layers.Dense(1))\n",
              "model.compile(optimizer=&#x27;sgd&#x27;, loss=&#x27;mse&#x27;)\n",
              "# This builds the model for the first time:\n",
              "model.fit(x, y, batch_size=32, epochs=10)\n",
              "```</pre>\n",
              "      <script>\n",
              "      if (google.colab.kernel.accessAllowed && google.colab.files && google.colab.files.view) {\n",
              "        for (const element of document.querySelectorAll('.filepath')) {\n",
              "          element.style.display = 'block'\n",
              "          element.onclick = (event) => {\n",
              "            event.preventDefault();\n",
              "            event.stopPropagation();\n",
              "            google.colab.files.view(element.textContent, 47);\n",
              "          };\n",
              "        }\n",
              "      }\n",
              "      for (const element of document.querySelectorAll('.function-repr-contents')) {\n",
              "        element.onclick = (event) => {\n",
              "          event.preventDefault();\n",
              "          event.stopPropagation();\n",
              "          element.classList.toggle('function-repr-contents-collapsed');\n",
              "        };\n",
              "      }\n",
              "      </script>\n",
              "      </div>"
            ]
          },
          "metadata": {},
          "execution_count": 36
        }
      ]
    },
    {
      "cell_type": "code",
      "source": [
        "h = model.fit(\n",
        "  train_ds,\n",
        "  validation_data=valid_ds,\n",
        "  epochs=8,\n",
        "  batch_size= 32\n",
        ")\n"
      ],
      "metadata": {
        "colab": {
          "base_uri": "https://localhost:8080/"
        },
        "id": "5c1R-7POebuV",
        "outputId": "88b300fd-7e57-4b66-a3e3-04a2b80fdaa5"
      },
      "execution_count": 37,
      "outputs": [
        {
          "output_type": "stream",
          "name": "stdout",
          "text": [
            "Epoch 1/8\n",
            "17/17 [==============================] - 12s 608ms/step - loss: 1.7178 - accuracy: 0.3755 - val_loss: 1.0386 - val_accuracy: 0.4822\n",
            "Epoch 2/8\n",
            "17/17 [==============================] - 10s 549ms/step - loss: 1.0228 - accuracy: 0.5253 - val_loss: 0.9315 - val_accuracy: 0.7369\n",
            "Epoch 3/8\n",
            "17/17 [==============================] - 12s 616ms/step - loss: 0.7782 - accuracy: 0.6788 - val_loss: 0.4953 - val_accuracy: 0.8305\n",
            "Epoch 4/8\n",
            "17/17 [==============================] - 11s 549ms/step - loss: 0.3731 - accuracy: 0.8624 - val_loss: 0.2541 - val_accuracy: 0.9307\n",
            "Epoch 5/8\n",
            "17/17 [==============================] - 11s 569ms/step - loss: 0.2299 - accuracy: 0.9354 - val_loss: 0.1120 - val_accuracy: 0.9635\n",
            "Epoch 6/8\n",
            "17/17 [==============================] - 11s 600ms/step - loss: 0.0957 - accuracy: 0.9775 - val_loss: 0.0317 - val_accuracy: 0.9916\n",
            "Epoch 7/8\n",
            "17/17 [==============================] - 12s 613ms/step - loss: 0.0560 - accuracy: 0.9831 - val_loss: 0.0195 - val_accuracy: 1.0000\n",
            "Epoch 8/8\n",
            "17/17 [==============================] - 11s 546ms/step - loss: 0.0225 - accuracy: 0.9934 - val_loss: 0.0054 - val_accuracy: 1.0000\n"
          ]
        }
      ]
    },
    {
      "cell_type": "code",
      "source": [
        "h.history"
      ],
      "metadata": {
        "id": "uqDonPDVgrVJ"
      },
      "execution_count": null,
      "outputs": []
    },
    {
      "cell_type": "code",
      "source": [
        "import matplotlib.pyplot as mp\n",
        "\n",
        "mp.plot(h.history['accuracy'], color='blue')\n",
        "mp.plot(h.history['val_accuracy'], color='green')\n",
        "mp.xlabel('epoch')\n",
        "mp.ylabel('accuracy')\n",
        "mp.legend(['train', 'valid'])\n",
        "mp.title('Accuracy vs Epochs')"
      ],
      "metadata": {
        "id": "45PzaxtTmHfd",
        "colab": {
          "base_uri": "https://localhost:8080/",
          "height": 490
        },
        "outputId": "d890c35f-95a7-41fd-f672-65f1ba613704"
      },
      "execution_count": 38,
      "outputs": [
        {
          "output_type": "execute_result",
          "data": {
            "text/plain": [
              "Text(0.5, 1.0, 'Accuracy vs Epochs')"
            ]
          },
          "metadata": {},
          "execution_count": 38
        },
        {
          "output_type": "display_data",
          "data": {
            "text/plain": [
              "<Figure size 640x480 with 1 Axes>"
            ],
            "image/png": "[encoded data removed]"
          },
          "metadata": {}
        }
      ]
    },
    {
      "cell_type": "code",
      "source": [
        "import matplotlib.pyplot as mp\n",
        "\n",
        "mp.plot(h.history['loss'], color='blue')\n",
        "mp.plot(h.history['val_loss'], color='green')\n",
        "mp.xlabel('epoch')\n",
        "mp.ylabel('loss')\n",
        "mp.legend(['train', 'valid'])\n",
        "mp.title('Loss vs Epochs')"
      ],
      "metadata": {
        "id": "ZdL-di4XmVj1",
        "colab": {
          "base_uri": "https://localhost:8080/",
          "height": 490
        },
        "outputId": "47b5911d-95f2-4200-8615-2d044df577b1"
      },
      "execution_count": 39,
      "outputs": [
        {
          "output_type": "execute_result",
          "data": {
            "text/plain": [
              "Text(0.5, 1.0, 'Loss vs Epochs')"
            ]
          },
          "metadata": {},
          "execution_count": 39
        },
        {
          "output_type": "display_data",
          "data": {
            "text/plain": [
              "<Figure size 640x480 with 1 Axes>"
            ],
            "image/png": "[encoded data removed]"
          },
          "metadata": {}
        }
      ]
    },
    {
      "cell_type": "markdown",
      "source": [
        "Test the Model"
      ],
      "metadata": {
        "id": "VGUELo3PIzPk"
      }
    },
    {
      "cell_type": "code",
      "source": [
        "loss, accuracy = model.evaluate(test_ds)\n",
        "print(f'Test Accuracy: {accuracy:.2f}')\n",
        "print(f'Test Loss: {loss:.2f}')\n"
      ],
      "metadata": {
        "id": "8S1iEREarBsz",
        "colab": {
          "base_uri": "https://localhost:8080/"
        },
        "outputId": "4025f913-e872-4a40-9d4f-a1ed420278e5"
      },
      "execution_count": 40,
      "outputs": [
        {
          "output_type": "stream",
          "name": "stdout",
          "text": [
            "1/1 [==============================] - 0s 243ms/step - loss: 1.3178 - accuracy: 0.6531\n",
            "Test Accuracy: 0.65\n",
            "Test Loss: 1.32\n"
          ]
        }
      ]
    },
    {
      "cell_type": "code",
      "source": [
        "import numpy as np"
      ],
      "metadata": {
        "id": "Fmn190GBsmiG"
      },
      "execution_count": 41,
      "outputs": []
    },
    {
      "cell_type": "code",
      "source": [
        "for images, labels in test_ds:\n",
        "    predictions = model.predict(images)\n",
        "    for i in range(len(images)):\n",
        "        image_path = test_ds.file_paths[i]  # Assuming test_ds contains file paths\n",
        "        index_pred = np.argmax(predictions[i])\n",
        "        class_names = ['Banarasi', 'Ikat', 'Pichwai']\n",
        "        predicted_class = class_names[index_pred]\n",
        "        print(\"Image Path:\", image_path)\n",
        "        print(\"Predicted class:\", predicted_class)\n"
      ],
      "metadata": {
        "id": "mSCNko-PropD",
        "colab": {
          "base_uri": "https://localhost:8080/"
        },
        "outputId": "443d62b6-10b7-437f-ad31-f448b4335a3d"
      },
      "execution_count": 51,
      "outputs": [
        {
          "output_type": "stream",
          "name": "stdout",
          "text": [
            "2/2 [==============================] - 1s 397ms/step\n",
            "Image Path: /content/indian-fabrics-3-classes/test/Banarasi/images13_jpg.rf.f2a3b1720972de4bb75b7fcb062269c8.jpg\n",
            "Predicted class: Ikat\n",
            "Image Path: /content/indian-fabrics-3-classes/test/Banarasi/images33_jpg.rf.b224fd1647ca405f955e199d2b136f2b.jpg\n",
            "Predicted class: Banarasi\n",
            "Image Path: /content/indian-fabrics-3-classes/test/Ikat/images33_jpg.rf.9e6ae9d131373c18cdbe6273089867f6.jpg\n",
            "Predicted class: Banarasi\n",
            "Image Path: /content/indian-fabrics-3-classes/test/Pichwai/pastel-hand-painted-pure-moonga-silk-pichwai-blouse-fabric-1-mtr-714991_jpg.rf.11185ddc8f105f1a385559cb725f5cc7.jpg\n",
            "Predicted class: Banarasi\n",
            "Image Path: /content/indian-fabrics-3-classes/test/Banarasi/red-traditonal-banarasi-silk-brocade-fabric-2018415488-kfz42azv_jpg.rf.db3ab1c289bebaecbcff8767f5644a8c.jpg\n",
            "Predicted class: Banarasi\n",
            "Image Path: /content/indian-fabrics-3-classes/test/Banarasi/FKACJRD10028_2_1200x_jpg.rf.b6a9cf3e00dfa401ad208adce5ffac55.jpg\n",
            "Predicted class: Banarasi\n",
            "Image Path: /content/indian-fabrics-3-classes/test/Pichwai/94235-3-202_jpg.rf.63093f3d3842db637c05c34ee2851af2.jpg\n",
            "Predicted class: Pichwai\n",
            "Image Path: /content/indian-fabrics-3-classes/test/Banarasi/images165_jpg.rf.69c08ad29cd52eddbeb529e48397898d.jpg\n",
            "Predicted class: Ikat\n",
            "Image Path: /content/indian-fabrics-3-classes/test/Ikat/images2_jpg.rf.02a6b1ab9b6a85556c27609b6cdc69d2.jpg\n",
            "Predicted class: Banarasi\n",
            "Image Path: /content/indian-fabrics-3-classes/test/Banarasi/images137_jpg.rf.0cc7bafc4b52a70afb5ec9e679a132e1.jpg\n",
            "Predicted class: Ikat\n",
            "Image Path: /content/indian-fabrics-3-classes/test/Ikat/ABB80897-FE29-4D7E-9FB3-438565872A39_1_201_a_1024x10242x_jpg.rf.4d4aa9bb60c2154ad8aad58ee8ef9173.jpg\n",
            "Predicted class: Pichwai\n",
            "Image Path: /content/indian-fabrics-3-classes/test/Pichwai/images24_jpg.rf.82b0457b8451ba98639e5a9bf7dc18a8.jpg\n",
            "Predicted class: Ikat\n",
            "Image Path: /content/indian-fabrics-3-classes/test/Banarasi/images154_jpg.rf.af53dcd0bb1f8ca3a5f74f31393e3761.jpg\n",
            "Predicted class: Banarasi\n",
            "Image Path: /content/indian-fabrics-3-classes/test/Pichwai/DSC07221_Medium_87b37a73-5171-47f6-af65-9602d6206692_jpg.rf.017ebb2ce2785fa45994804834aca36e.jpg\n",
            "Predicted class: Ikat\n",
            "Image Path: /content/indian-fabrics-3-classes/test/Banarasi/image19_jpeg.rf.03c31350253eb513e405bd998f9fa9bf.jpg\n",
            "Predicted class: Ikat\n",
            "Image Path: /content/indian-fabrics-3-classes/test/Banarasi/IG_04011_jpg.rf.ab2e485681de61ac37a88ee374947f20.jpg\n",
            "Predicted class: Pichwai\n",
            "Image Path: /content/indian-fabrics-3-classes/test/Banarasi/images102_jpg.rf.f420915e94eb4bc0244f4a49d92b50b0.jpg\n",
            "Predicted class: Banarasi\n",
            "Image Path: /content/indian-fabrics-3-classes/test/Ikat/images16_jpg.rf.72b40d91b758a8038c5198adc15924f5.jpg\n",
            "Predicted class: Banarasi\n",
            "Image Path: /content/indian-fabrics-3-classes/test/Pichwai/image19_jpeg.rf.1e1ae4c2b3e979d84fa61e12951a9559.jpg\n",
            "Predicted class: Pichwai\n",
            "Image Path: /content/indian-fabrics-3-classes/test/Ikat/f46-1_21128d53-1a33-419c-9643-58618f1013c8_jpg.rf.adac2c7ab9c5335cefbc3ba18cf6c4f8.jpg\n",
            "Predicted class: Ikat\n",
            "Image Path: /content/indian-fabrics-3-classes/test/Ikat/images7_jpg.rf.74017171f37deb9d4c9ebf64652599d8.jpg\n",
            "Predicted class: Pichwai\n",
            "Image Path: /content/indian-fabrics-3-classes/test/Banarasi/images42_jpg.rf.ccac6b7048d37352c69f409e7e669821.jpg\n",
            "Predicted class: Banarasi\n",
            "Image Path: /content/indian-fabrics-3-classes/test/Pichwai/22003334-B_jpg.rf.74bce99ac3eebfb5a007f6c6311e0867.jpg\n",
            "Predicted class: Ikat\n",
            "Image Path: /content/indian-fabrics-3-classes/test/Ikat/images11_jpg.rf.79b597424656a2fabb74a3b5025f2bee.jpg\n",
            "Predicted class: Ikat\n",
            "Image Path: /content/indian-fabrics-3-classes/test/Banarasi/images117_jpg.rf.032c6291752f728f46eb588166856cd3.jpg\n",
            "Predicted class: Banarasi\n",
            "Image Path: /content/indian-fabrics-3-classes/test/Ikat/-473Wx593H-469483210-multi-MODEL_jpg.rf.896ace1ca420f5f07b9c9df0a8466bf1.jpg\n",
            "Predicted class: Ikat\n",
            "Image Path: /content/indian-fabrics-3-classes/test/Pichwai/images2_jpg.rf.1e897de0921e30de0d787933ff7fe36e.jpg\n",
            "Predicted class: Pichwai\n",
            "Image Path: /content/indian-fabrics-3-classes/test/Banarasi/IMG_E9590_2796f3d7-9007-4e6c-923c-b46a3c378b4b_jpg.rf.a71486f377401a9e6acdd2966f21c9c2.jpg\n",
            "Predicted class: Banarasi\n",
            "Image Path: /content/indian-fabrics-3-classes/test/Ikat/e42f5dd20f355044d6cda9e30444b36c_jpg.rf.a3306754f8bdfcaa9410fbf3f2e37472.jpg\n",
            "Predicted class: Banarasi\n",
            "Image Path: /content/indian-fabrics-3-classes/test/Pichwai/il_1140xN-3336549267_bg7z_jpg.rf.d7ef573c4417a24f995137729497129b.jpg\n",
            "Predicted class: Pichwai\n",
            "Image Path: /content/indian-fabrics-3-classes/test/Banarasi/image10_jpeg.rf.3ea58bed195a6cf66993888488fc683c.jpg\n",
            "Predicted class: Banarasi\n",
            "Image Path: /content/indian-fabrics-3-classes/test/Banarasi/images63_jpg.rf.34aa6a555a77b707800294929a181729.jpg\n",
            "Predicted class: Pichwai\n",
            "Image Path: /content/indian-fabrics-3-classes/test/Pichwai/27042022040344_png.rf.35b6e139045bd0e9edf0356b2e77f5e1.jpg\n",
            "Predicted class: Pichwai\n",
            "Image Path: /content/indian-fabrics-3-classes/test/Banarasi/images34_jpg.rf.4eda2027e8a35ae5b22ca9331f9fd284.jpg\n",
            "Predicted class: Banarasi\n",
            "Image Path: /content/indian-fabrics-3-classes/test/Pichwai/PICHWAI-100005-01_jpg.rf.78aca72d64b640652f3171dd31284757.jpg\n",
            "Predicted class: Banarasi\n",
            "Image Path: /content/indian-fabrics-3-classes/test/Ikat/image_jpeg.rf.e61fe17efe6729c908868bd20dfb7ea0.jpg\n",
            "Predicted class: Banarasi\n",
            "Image Path: /content/indian-fabrics-3-classes/test/Pichwai/48062-DSC_9739-JPG_jpg.rf.f0bbe31c8ade6c5c1991268b59cb2166.jpg\n",
            "Predicted class: Banarasi\n",
            "Image Path: /content/indian-fabrics-3-classes/test/Pichwai/833_6772_1563199443_jpg.rf.87bdfd8b2e4c68273c3e1b7dfacdf72c.jpg\n",
            "Predicted class: Banarasi\n",
            "Image Path: /content/indian-fabrics-3-classes/test/Banarasi/images139_jpg.rf.8e00005559a458c891ae4adacd8941dd.jpg\n",
            "Predicted class: Banarasi\n",
            "Image Path: /content/indian-fabrics-3-classes/test/Ikat/img_5849_3_1280x_jpg.rf.7c55911d0a2bc68ab0b339d377cd1f36.jpg\n",
            "Predicted class: Ikat\n",
            "Image Path: /content/indian-fabrics-3-classes/test/Ikat/whatsapp-image-2023-03-21-at-20-18-28_jpeg.rf.9a3419e13ce921947769c33b0ad3b21e.jpg\n",
            "Predicted class: Banarasi\n",
            "Image Path: /content/indian-fabrics-3-classes/test/Ikat/Pochampally20Violet20Cotton20Ikat20Fabric-1000x1000_jpeg.rf.7718f9f18ee2f7b5213af34d3cbc41db.jpg\n",
            "Predicted class: Banarasi\n",
            "Image Path: /content/indian-fabrics-3-classes/test/Banarasi/sf40595-saroj-fabrics-purple-banarasi-fabric_jpg.rf.e25e831e8fc6c846a2ab5e8ef24bd165.jpg\n",
            "Predicted class: Ikat\n",
            "Image Path: /content/indian-fabrics-3-classes/test/Banarasi/images93_jpg.rf.d1c511b77ef99040201d17d5dfda33c0.jpg\n",
            "Predicted class: Ikat\n",
            "Image Path: /content/indian-fabrics-3-classes/test/Pichwai/71VxsnD2t8L-_AC_UF8941000_QL80__jpg.rf.f8c61cc9601ae711b89798ae9f0ff186.jpg\n",
            "Predicted class: Ikat\n",
            "Image Path: /content/indian-fabrics-3-classes/test/Pichwai/0fd2df9315d8aba5cf9471c838a639aa_jpg.rf.8af9125e06a5d8518102a7b9efdae70a.jpg\n",
            "Predicted class: Banarasi\n",
            "Image Path: /content/indian-fabrics-3-classes/test/Ikat/images23_jpg.rf.1b4ca76eef45e3537528107f5b6e6c89.jpg\n",
            "Predicted class: Banarasi\n",
            "Image Path: /content/indian-fabrics-3-classes/test/Banarasi/IG_09957_bf42d59b-be3e-45e3-a9b9-54ac921bcbcc_jpg.rf.af800d9117f90db4f19670bff8d18049.jpg\n",
            "Predicted class: Pichwai\n",
            "Image Path: /content/indian-fabrics-3-classes/test/Pichwai/image27_jpeg.rf.4b850f7338f54b53a643b330c2858bbd.jpg\n",
            "Predicted class: Pichwai\n"
          ]
        }
      ]
    },
    {
      "cell_type": "code",
      "source": [
        "from tensorflow.keras.preprocessing import image\n"
      ],
      "metadata": {
        "id": "hlmZaczDuFTK"
      },
      "execution_count": 43,
      "outputs": []
    },
    {
      "cell_type": "code",
      "source": [
        "img = image.load_img('/content/Ikat.png', target_size=(320, 320))\n",
        "img_array = image.img_to_array(img)\n",
        "img_array = np.expand_dims(img_array, axis=0)\n",
        "img_array /= 255.0\n",
        "a= model.predict(img_array)\n",
        "pred_class_ind = np.argmax(a)\n",
        "print(a)\n",
        "print(class_names[pred_class_ind])\n",
        "\n"
      ],
      "metadata": {
        "id": "hYn1tdtXttSv",
        "colab": {
          "base_uri": "https://localhost:8080/"
        },
        "outputId": "13c8e911-6d2b-466d-c1eb-0a9d2edb382c"
      },
      "execution_count": 50,
      "outputs": [
        {
          "output_type": "stream",
          "name": "stdout",
          "text": [
            "1/1 [==============================] - 0s 38ms/step\n",
            "[[0.00851426 0.9519963  0.03948944]]\n",
            "Ikat\n"
          ]
        }
      ]
    },
    {
      "cell_type": "code",
      "source": [
        "class_names = test_ds.class_names\n",
        "print(\"Class Names:\", class_names)\n"
      ],
      "metadata": {
        "id": "djrcCwPItlzL",
        "colab": {
          "base_uri": "https://localhost:8080/"
        },
        "outputId": "808b40a6-db3a-4c43-edaf-fabfda99c413"
      },
      "execution_count": 45,
      "outputs": [
        {
          "output_type": "stream",
          "name": "stdout",
          "text": [
            "Class Names: ['Banarasi', 'Ikat', 'Pichwai']\n"
          ]
        }
      ]
    }
  ]
}